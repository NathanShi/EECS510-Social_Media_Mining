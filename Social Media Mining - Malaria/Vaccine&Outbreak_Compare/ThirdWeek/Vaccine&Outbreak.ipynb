{
 "cells": [
  {
   "cell_type": "code",
   "execution_count": 1,
   "metadata": {
    "collapsed": true
   },
   "outputs": [],
   "source": [
    "from geotext import GeoText\n",
    "import pandas as pd\n",
    "import numpy as np\n",
    "import ast\n",
    "import csv\n",
    "import json\n",
    "import re\n",
    "import geograpy\n",
    "import urllib2"
   ]
  },
  {
   "cell_type": "code",
   "execution_count": 2,
   "metadata": {
    "collapsed": true
   },
   "outputs": [],
   "source": [
    "def load_json_multiple(segments):\n",
    "    #chunk = \"\"\n",
    "    for segment in segments:\n",
    "        #chunk += segment\n",
    "        try:\n",
    "            yield json.loads(segment)\n",
    "            #chunk = \"\"\n",
    "        except ValueError:\n",
    "            pass\n",
    "\n",
    "\n",
    "tweets_json = []\n",
    "\n",
    "with open('merged.json') as f:\n",
    "    for parsed_json in load_json_multiple(f):\n",
    "        tweets_json.append(parsed_json)"
   ]
  },
  {
   "cell_type": "code",
   "execution_count": null,
   "metadata": {},
   "outputs": [],
   "source": []
  },
  {
   "cell_type": "code",
   "execution_count": 3,
   "metadata": {},
   "outputs": [],
   "source": [
    "text = []\n",
    "locations = []\n",
    "for line in tweets_json:\n",
    "    if line == 420:\n",
    "        continue\n",
    "    if 'text' in line:\n",
    "        text.append(line['text'])\n",
    "    if 'user' in line:\n",
    "        if 'location' in line['user']:\n",
    "            locations.append(line['user']['location'])"
   ]
  },
  {
   "cell_type": "code",
   "execution_count": 8,
   "metadata": {},
   "outputs": [],
   "source": [
    "#locations"
   ]
  },
  {
   "cell_type": "code",
   "execution_count": null,
   "metadata": {
    "collapsed": true
   },
   "outputs": [],
   "source": []
  },
  {
   "cell_type": "code",
   "execution_count": 4,
   "metadata": {},
   "outputs": [],
   "source": [
    "regexV = r'.*vaccine.*'\n",
    "regexO = r'.*outbreak.*'\n",
    "\n",
    "vaccine = []\n",
    "outbreak = []\n",
    "vaccineLoc = []\n",
    "outbreakLoc = []\n",
    "\n",
    "for line in text:\n",
    "    if re.match(regexV, line.encode('utf-8'), re.IGNORECASE):\n",
    "        vaccine.append(line.encode('utf-8'))\n",
    "        temp = locations[text.index(line)]\n",
    "        if temp != None:\n",
    "            vaccineLoc.append(temp.encode('utf-8'))\n",
    "        else:\n",
    "            vaccineLoc.append(temp)\n",
    "    if re.match(regexO, line.encode('utf-8'), re.IGNORECASE):\n",
    "        outbreak.append(line.encode('utf-8'))\n",
    "        temp = locations[text.index(line)]\n",
    "        if temp != None:\n",
    "            outbreakLoc.append(temp.encode('utf-8'))\n",
    "        else:\n",
    "            vaccineLoc.append(temp)"
   ]
  },
  {
   "cell_type": "code",
   "execution_count": 5,
   "metadata": {},
   "outputs": [],
   "source": [
    "from itertools import izip\n",
    "with open('vac_loc.csv', 'wb') as f:\n",
    "    writer = csv.writer(f)\n",
    "    writer.writerows(izip(vaccine, vaccineLoc))"
   ]
  },
  {
   "cell_type": "code",
   "execution_count": 6,
   "metadata": {},
   "outputs": [],
   "source": [
    "with open('break_loc.csv', 'wb') as f:\n",
    "    writer = csv.writer(f)\n",
    "    writer.writerows(izip(outbreak, outbreakLoc))"
   ]
  },
  {
   "cell_type": "code",
   "execution_count": 7,
   "metadata": {
    "collapsed": true
   },
   "outputs": [],
   "source": [
    "Lon = []\n",
    "Lat = []\n",
    "empty = []\n",
    "repeat = []"
   ]
  },
  {
   "cell_type": "code",
   "execution_count": 8,
   "metadata": {},
   "outputs": [],
   "source": [
    "for line in outbreak:\n",
    "    temp = GeoText(line)\n",
    "    if temp.cities or temp.countries:\n",
    "        if temp.cities:\n",
    "            for c in temp.cities:\n",
    "                tmp = c.replace(\" \",\"%20\")\n",
    "                response = urllib2.urlopen(\"http://nominatim.openstreetmap.org/search?q=\"+ tmp +\"&format=json&addressdetails=1&limit=1\")\n",
    "                data = json.load(response)\n",
    "                if len(data) != 0:\n",
    "                    if (data[0]['lat'] and data[0]['lon']):\n",
    "                        tmplat = data[0]['lat'].encode('utf-8')\n",
    "                        tmplon = data[0]['lon'].encode('utf-8')\n",
    "                        if tmplat in Lat and tmplon in Lon:\n",
    "                            repeat[Lat.index(tmplat)] += 1\n",
    "                        else:\n",
    "                            Lat.append(tmplat)\n",
    "                            Lon.append(tmplon)\n",
    "                            repeat.append(1)\n",
    "                    else:\n",
    "                        empty.append(line)\n",
    "                else:\n",
    "                    empty.append(c)\n",
    "        else:\n",
    "            for co in temp.countries:\n",
    "                tmp = co.replace(\" \",\"%20\")\n",
    "                response = urllib2.urlopen(\"http://nominatim.openstreetmap.org/search?q=\"+ tmp +\"&format=json&addressdetails=1&limit=1\")\n",
    "                data = json.load(response)\n",
    "                if len(data) != 0:\n",
    "#                     print(\"country\\n\")\n",
    "#                     print('lat' in data[0])\n",
    "#                     print(\"\\n\")\n",
    "                    if (data[0]['lat'] and data[0]['lon']):\n",
    "                        tmplat = data[0]['lat'].encode('utf-8')\n",
    "                        tmplon = data[0]['lon'].encode('utf-8')\n",
    "                        if tmplat in Lat and tmplon in Lon:\n",
    "                            repeat[Lat.index(tmplat)] += 1\n",
    "                        else:\n",
    "                            Lat.append(tmplat)\n",
    "                            Lon.append(tmplon)\n",
    "                            repeat.append(1)\n",
    "                    else:\n",
    "                        empty.append(line)\n",
    "                else:\n",
    "                    empty.append(co)"
   ]
  },
  {
   "cell_type": "code",
   "execution_count": 9,
   "metadata": {},
   "outputs": [],
   "source": [
    "string = [\"Namibia\", \"DRC\", \"Mpumalanga\", \"Nicaragua\", \"Binga\", \"SA\", \"Kozhikode\"]\n",
    "\n",
    "for s in string:\n",
    "    response = urllib2.urlopen(\"http://nominatim.openstreetmap.org/search?q=\"+ s +\"&format=json&addressdetails=1&limit=1\")\n",
    "    data = json.load(response)\n",
    "    if len(data) != 0:\n",
    "        if (data[0]['lat'] and data[0]['lon']):\n",
    "            tmplat = data[0]['lat'].encode('utf-8')\n",
    "            tmplon = data[0]['lon'].encode('utf-8')\n",
    "            if tmplat in Lat and tmplon in Lon:\n",
    "                continue\n",
    "            else:\n",
    "                Lat.append(tmplat)\n",
    "                Lon.append(tmplon)\n",
    "                tmp = 0\n",
    "                for line in outbreak:\n",
    "                    if s in line:\n",
    "                        tmp += 1\n",
    "                repeat.append(tmp)\n",
    "        else:\n",
    "            empty.append(line)\n",
    "    else:\n",
    "        empty.append(c)"
   ]
  },
  {
   "cell_type": "code",
   "execution_count": 10,
   "metadata": {},
   "outputs": [
    {
     "data": {
      "text/plain": [
       "7"
      ]
     },
     "execution_count": 10,
     "metadata": {},
     "output_type": "execute_result"
    }
   ],
   "source": [
    "len(repeat)"
   ]
  },
  {
   "cell_type": "code",
   "execution_count": 11,
   "metadata": {},
   "outputs": [],
   "source": [
    "with open('break_loc_lon_lat_repeat.csv', 'wb') as f:\n",
    "    writer = csv.writer(f)\n",
    "    writer.writerows(izip(Lat, Lon, repeat))"
   ]
  },
  {
   "cell_type": "code",
   "execution_count": 12,
   "metadata": {},
   "outputs": [
    {
     "data": {
      "text/plain": [
       "77"
      ]
     },
     "execution_count": 12,
     "metadata": {},
     "output_type": "execute_result"
    }
   ],
   "source": [
    "vacTextLocation = []\n",
    "for line in vaccine:\n",
    "    temp = GeoText(line)\n",
    "    if temp.cities or temp.countries:\n",
    "        if temp.cities:\n",
    "            for c in temp.cities:\n",
    "                vacTextLocation.append(c)\n",
    "        else:\n",
    "            for c in temp.countries:\n",
    "                vacTextLocation.append(c)\n",
    "len(vacTextLocation)"
   ]
  },
  {
   "cell_type": "code",
   "execution_count": 13,
   "metadata": {
    "collapsed": true
   },
   "outputs": [],
   "source": [
    "Lon = []\n",
    "Lat = []\n",
    "empty = []"
   ]
  },
  {
   "cell_type": "code",
   "execution_count": 14,
   "metadata": {},
   "outputs": [],
   "source": [
    "from collections import Counter\n",
    "temp = Counter(vacTextLocation)\n",
    "for line in temp:\n",
    "    repeated = temp[line]\n",
    "    tmp = line.replace(\" \",\"%20\")\n",
    "    response = urllib2.urlopen(\"http://nominatim.openstreetmap.org/search?q=\"+ tmp +\"&format=json&addressdetails=1&limit=1\")\n",
    "    data = json.load(response)\n",
    "    if len(data) != 0:\n",
    "        if (data[0]['lat'] and data[0]['lon']):\n",
    "            tmplat = data[0]['lat'].encode('utf-8')\n",
    "            tmplon = data[0]['lon'].encode('utf-8')\n",
    "            for i in range(0, repeated):\n",
    "                Lat.append(tmplat)\n",
    "                Lon.append(tmplon)             \n",
    "        else:\n",
    "            empty.append(line)\n",
    "    else:\n",
    "        empty.append(line)"
   ]
  },
  {
   "cell_type": "code",
   "execution_count": 15,
   "metadata": {},
   "outputs": [],
   "source": [
    "with open('vac_text_lon_lat.csv', 'wb') as f:\n",
    "    writer = csv.writer(f)\n",
    "    writer.writerows(izip(Lat, Lon))"
   ]
  },
  {
   "cell_type": "code",
   "execution_count": 16,
   "metadata": {},
   "outputs": [],
   "source": [
    "Lon = []\n",
    "Lat = []\n",
    "empty = []\n",
    "repeat = []"
   ]
  },
  {
   "cell_type": "code",
   "execution_count": 17,
   "metadata": {},
   "outputs": [],
   "source": [
    "vaccineLocWithoutNone = []\n",
    "\n",
    "for lc in vaccineLoc:\n",
    "    if lc != None:\n",
    "        vaccineLocWithoutNone.append(lc)\n",
    "\n",
    "tmpVacLoc = Counter(vaccineLocWithoutNone)"
   ]
  },
  {
   "cell_type": "code",
   "execution_count": 19,
   "metadata": {},
   "outputs": [
    {
     "data": {
      "text/plain": [
       "Counter({',Clifton, NJ 07011': 1,\n",
       "         '33.959328,-118.38522': 2,\n",
       "         'Alberta': 2,\n",
       "         'Atlanta, GA': 3,\n",
       "         'Australia': 8,\n",
       "         'Australian Capital Territory': 2,\n",
       "         'Baltimore, MD': 2,\n",
       "         'Bethesda, Maryland': 1,\n",
       "         'Bourne, MA': 1,\n",
       "         'Bozeman, Montana': 1,\n",
       "         'Buenos Aires': 1,\n",
       "         'Cagayan': 2,\n",
       "         'California, PA': 2,\n",
       "         'Canada': 1,\n",
       "         'Cape Town, South Africa': 5,\n",
       "         'Culiac\\xc3\\xa1n, Sinaloa, M\\xc3\\xa9xico': 2,\n",
       "         'Cuman\\xc3\\xa1': 2,\n",
       "         'C\\xc3\\xa1ceres / Xix\\xc3\\xb3n': 1,\n",
       "         'Durham, NC': 2,\n",
       "         'East Falls': 2,\n",
       "         'Email: swankpharm@gmail.com': 1,\n",
       "         'Florida, USA': 1,\n",
       "         'Germany': 2,\n",
       "         'Ghana': 1,\n",
       "         'Glasgow ': 2,\n",
       "         'Global': 5,\n",
       "         'Global Africa': 2,\n",
       "         'Great Britain': 2,\n",
       "         'Home is where the heart lives': 1,\n",
       "         'Hyderabad, India': 2,\n",
       "         'Iberoam\\xc3\\xa9rica': 4,\n",
       "         'Jupiter, FL': 4,\n",
       "         'Kaduna, Nigeria': 1,\n",
       "         'Lagos': 1,\n",
       "         'Lagos - Nigeria': 2,\n",
       "         'Lagos, Nigeria': 5,\n",
       "         'Lancashire and Senegal': 2,\n",
       "         'London': 4,\n",
       "         'London, England': 11,\n",
       "         'London, Ontario, Canada': 14,\n",
       "         'Los Angeles, USA': 2,\n",
       "         'Madrid, Comunidad de Madrid': 2,\n",
       "         'Malawi': 1,\n",
       "         'Mandug, Davao City': 2,\n",
       "         'Manhattan - NYC': 1,\n",
       "         'Michigan, USA': 2,\n",
       "         'Montana, USA': 1,\n",
       "         'Mumbai': 1,\n",
       "         'M\\xc3\\xa9xico': 1,\n",
       "         'NIGERIA': 2,\n",
       "         'Neverland': 3,\n",
       "         'New Delhi': 1,\n",
       "         'New Delhi, Delhi': 4,\n",
       "         'New Delhi, India': 2,\n",
       "         'New York, NY 10002': 2,\n",
       "         'New York, USA': 1,\n",
       "         'Nigeria': 12,\n",
       "         'Northampton, England': 7,\n",
       "         'Northampton, UK': 4,\n",
       "         'Orange County, CA - USA': 1,\n",
       "         'Piscataway, NJ ': 1,\n",
       "         'Planet Earth': 1,\n",
       "         'Richards bay': 1,\n",
       "         'Rockaway, New Jersey': 1,\n",
       "         'Rockville, MD': 1,\n",
       "         'Rolla, MO': 2,\n",
       "         'Samborondon, Ecuador': 2,\n",
       "         'San Diego, CA': 2,\n",
       "         'Scottsdale, AZ': 2,\n",
       "         'Seattle\\n': 2,\n",
       "         'Silver Spring, Maryland': 1,\n",
       "         'South Africa': 2,\n",
       "         'Sydney, New South Wales': 2,\n",
       "         'Tempe, AZ': 1,\n",
       "         'Tijuana, Baja California': 2,\n",
       "         'Toronto, Ontario': 3,\n",
       "         'UK': 4,\n",
       "         'US': 2,\n",
       "         'United Kingdom': 2,\n",
       "         'United Kingdom & Europe': 1,\n",
       "         'United States': 13,\n",
       "         'Valladolid': 3,\n",
       "         'Venezuela': 1,\n",
       "         'Virginia, USA': 1,\n",
       "         'Washington, DC': 7,\n",
       "         'West Yorkshire': 2,\n",
       "         'Wien, \\xc3\\x96sterreich': 1,\n",
       "         'Worldwide': 4,\n",
       "         'Wroclaw, Lower Silesia, Poland': 2,\n",
       "         'ca': 3,\n",
       "         'lagos,nigeria': 1,\n",
       "         '\\xc3\\x9c.T: 51.53096,-0.118332': 2,\n",
       "         '\\xe5\\x85\\xb5\\xe5\\xba\\xab\\xe7\\x9c\\x8c': 2})"
      ]
     },
     "execution_count": 19,
     "metadata": {},
     "output_type": "execute_result"
    }
   ],
   "source": [
    "tmpVacLoc"
   ]
  },
  {
   "cell_type": "code",
   "execution_count": 27,
   "metadata": {},
   "outputs": [],
   "source": [
    "regexHashtag = r'#(\\w+)'\n",
    "\n",
    "for line in tmpVacLoc:\n",
    "    if re.match(regexHashtag, line):\n",
    "        empty.append(line)\n",
    "        continue\n",
    "    repeated = tmpVacLoc[line]\n",
    "    tmp = line.replace(\" \",\"%20\")\n",
    "    ne = tmp.replace(\",\",\"%20\")\n",
    "    n = ne.replace(\"&\", \"%20\")\n",
    "    x = n.replace(\"\\n\", \"%20\")\n",
    "    #print(n)\n",
    "    response = urllib2.urlopen(\"http://nominatim.openstreetmap.org/search?q=\"+ x +\"&format=json&addressdetails=1&limit=1\")\n",
    "    data = json.load(response)\n",
    "    if len(data) != 0:\n",
    "        if (data[0]['lat'] and data[0]['lon']):\n",
    "            tmplat = data[0]['lat'].encode('utf-8')\n",
    "            tmplon = data[0]['lon'].encode('utf-8')\n",
    "            for i in range(0, repeated):\n",
    "                Lat.append(tmplat)\n",
    "                Lon.append(tmplon)             \n",
    "        else:\n",
    "            empty.append(line)\n",
    "    else:\n",
    "        empty.append(line)"
   ]
  },
  {
   "cell_type": "code",
   "execution_count": 28,
   "metadata": {},
   "outputs": [],
   "source": [
    "with open('vac_loc_lon_lat.csv', 'wb') as f:\n",
    "    writer = csv.writer(f)\n",
    "    writer.writerows(izip(Lat, Lon))"
   ]
  },
  {
   "cell_type": "code",
   "execution_count": 26,
   "metadata": {},
   "outputs": [
    {
     "data": {
      "text/plain": [
       "734"
      ]
     },
     "execution_count": 26,
     "metadata": {},
     "output_type": "execute_result"
    }
   ],
   "source": [
    "len(Lat)"
   ]
  },
  {
   "cell_type": "code",
   "execution_count": null,
   "metadata": {},
   "outputs": [],
   "source": []
  },
  {
   "cell_type": "code",
   "execution_count": null,
   "metadata": {},
   "outputs": [],
   "source": []
  },
  {
   "cell_type": "code",
   "execution_count": null,
   "metadata": {},
   "outputs": [],
   "source": []
  },
  {
   "cell_type": "code",
   "execution_count": null,
   "metadata": {
    "collapsed": true
   },
   "outputs": [],
   "source": []
  },
  {
   "cell_type": "code",
   "execution_count": null,
   "metadata": {},
   "outputs": [],
   "source": []
  },
  {
   "cell_type": "code",
   "execution_count": null,
   "metadata": {},
   "outputs": [],
   "source": []
  },
  {
   "cell_type": "code",
   "execution_count": null,
   "metadata": {},
   "outputs": [],
   "source": []
  },
  {
   "cell_type": "code",
   "execution_count": null,
   "metadata": {},
   "outputs": [],
   "source": []
  },
  {
   "cell_type": "code",
   "execution_count": null,
   "metadata": {},
   "outputs": [],
   "source": []
  },
  {
   "cell_type": "code",
   "execution_count": null,
   "metadata": {
    "collapsed": true
   },
   "outputs": [],
   "source": []
  }
 ],
 "metadata": {
  "kernelspec": {
   "display_name": "Python 3",
   "language": "python",
   "name": "python3"
  },
  "language_info": {
   "codemirror_mode": {
    "name": "ipython",
    "version": 3
   },
   "file_extension": ".py",
   "mimetype": "text/x-python",
   "name": "python",
   "nbconvert_exporter": "python",
   "pygments_lexer": "ipython3",
   "version": "3.6.1"
  }
 },
 "nbformat": 4,
 "nbformat_minor": 2
}
