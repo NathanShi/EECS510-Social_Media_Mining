{
 "cells": [
  {
   "cell_type": "code",
   "execution_count": 5,
   "metadata": {
    "collapsed": true
   },
   "outputs": [],
   "source": [
    "from geotext import GeoText\n",
    "import pandas as pd\n",
    "import numpy as np\n",
    "import ast\n",
    "import csv\n",
    "import json\n",
    "import re\n",
    "import geograpy\n",
    "import urllib2"
   ]
  },
  {
   "cell_type": "code",
   "execution_count": 6,
   "metadata": {
    "collapsed": true
   },
   "outputs": [],
   "source": [
    "def load_json_multiple(segments):\n",
    "    #chunk = \"\"\n",
    "    for segment in segments:\n",
    "        #chunk += segment\n",
    "        try:\n",
    "            yield json.loads(segment)\n",
    "            #chunk = \"\"\n",
    "        except ValueError:\n",
    "            pass\n",
    "\n",
    "\n",
    "tweets_json = []\n",
    "\n",
    "with open('merged.json') as f:\n",
    "    for parsed_json in load_json_multiple(f):\n",
    "        tweets_json.append(parsed_json)"
   ]
  },
  {
   "cell_type": "code",
   "execution_count": null,
   "metadata": {
    "collapsed": false
   },
   "outputs": [],
   "source": []
  },
  {
   "cell_type": "code",
   "execution_count": 7,
   "metadata": {
    "collapsed": false
   },
   "outputs": [],
   "source": [
    "text = []\n",
    "locations = []\n",
    "for line in tweets_json:\n",
    "    if line == 420:\n",
    "        continue\n",
    "    if 'text' in line:\n",
    "        text.append(line['text'])\n",
    "    if 'user' in line:\n",
    "        if 'location' in line['user']:\n",
    "            locations.append(line['user']['location'])"
   ]
  },
  {
   "cell_type": "code",
   "execution_count": 8,
   "metadata": {
    "collapsed": false
   },
   "outputs": [],
   "source": [
    "#locations"
   ]
  },
  {
   "cell_type": "code",
   "execution_count": null,
   "metadata": {
    "collapsed": true
   },
   "outputs": [],
   "source": []
  },
  {
   "cell_type": "code",
   "execution_count": 9,
   "metadata": {
    "collapsed": false
   },
   "outputs": [],
   "source": [
    "regexV = r'.*vaccine.*'\n",
    "regexO = r'.*outbreak.*'\n",
    "\n",
    "vaccine = []\n",
    "outbreak = []\n",
    "vaccineLoc = []\n",
    "outbreakLoc = []\n",
    "\n",
    "for line in text:\n",
    "    if re.match(regexV, line.encode('utf-8'), re.IGNORECASE):\n",
    "        vaccine.append(line.encode('utf-8'))\n",
    "        temp = locations[text.index(line)]\n",
    "        if temp != None:\n",
    "            vaccineLoc.append(temp.encode('utf-8'))\n",
    "        else:\n",
    "            vaccineLoc.append(temp)\n",
    "    if re.match(regexO, line.encode('utf-8'), re.IGNORECASE):\n",
    "        outbreak.append(line.encode('utf-8'))\n",
    "        temp = locations[text.index(line)]\n",
    "        if temp != None:\n",
    "            outbreakLoc.append(temp.encode('utf-8'))\n",
    "        else:\n",
    "            vaccineLoc.append(temp)"
   ]
  },
  {
   "cell_type": "code",
   "execution_count": 10,
   "metadata": {
    "collapsed": false
   },
   "outputs": [],
   "source": [
    "from itertools import izip\n",
    "with open('vac_loc.csv', 'wb') as f:\n",
    "    writer = csv.writer(f)\n",
    "    writer.writerows(izip(vaccine, vaccineLoc))"
   ]
  },
  {
   "cell_type": "code",
   "execution_count": 11,
   "metadata": {
    "collapsed": false
   },
   "outputs": [],
   "source": [
    "with open('break_loc.csv', 'wb') as f:\n",
    "    writer = csv.writer(f)\n",
    "    writer.writerows(izip(outbreak, outbreakLoc))"
   ]
  },
  {
   "cell_type": "code",
   "execution_count": 22,
   "metadata": {
    "collapsed": true
   },
   "outputs": [],
   "source": [
    "Lon = []\n",
    "Lat = []\n",
    "empty = []\n",
    "repeat = []"
   ]
  },
  {
   "cell_type": "code",
   "execution_count": 23,
   "metadata": {
    "collapsed": false
   },
   "outputs": [],
   "source": [
    "for line in outbreak:\n",
    "    temp = GeoText(line)\n",
    "    if temp.cities or temp.countries:\n",
    "        if temp.cities:\n",
    "            for c in temp.cities:\n",
    "                tmp = c.replace(\" \",\"%20\")\n",
    "                response = urllib2.urlopen(\"http://nominatim.openstreetmap.org/search?q=\"+ tmp +\"&format=json&addressdetails=1&limit=1\")\n",
    "                data = json.load(response)\n",
    "                if len(data) != 0:\n",
    "                    if (data[0]['lat'] and data[0]['lon']):\n",
    "                        tmplat = data[0]['lat'].encode('utf-8')\n",
    "                        tmplon = data[0]['lon'].encode('utf-8')\n",
    "                        if tmplat in Lat and tmplon in Lon:\n",
    "                            repeat[Lat.index(tmplat)] += 1\n",
    "                        else:\n",
    "                            Lat.append(tmplat)\n",
    "                            Lon.append(tmplon)\n",
    "                            repeat.append(1)\n",
    "                    else:\n",
    "                        empty.append(line)\n",
    "                else:\n",
    "                    empty.append(c)\n",
    "        else:\n",
    "            for co in temp.countries:\n",
    "                tmp = co.replace(\" \",\"%20\")\n",
    "                response = urllib2.urlopen(\"http://nominatim.openstreetmap.org/search?q=\"+ tmp +\"&format=json&addressdetails=1&limit=1\")\n",
    "                data = json.load(response)\n",
    "                if len(data) != 0:\n",
    "#                     print(\"country\\n\")\n",
    "#                     print('lat' in data[0])\n",
    "#                     print(\"\\n\")\n",
    "                    if (data[0]['lat'] and data[0]['lon']):\n",
    "                        tmplat = data[0]['lat'].encode('utf-8')\n",
    "                        tmplon = data[0]['lon'].encode('utf-8')\n",
    "                        if tmplat in Lat and tmplon in Lon:\n",
    "                            repeat[Lat.index(tmplat)] += 1\n",
    "                        else:\n",
    "                            Lat.append(tmplat)\n",
    "                            Lon.append(tmplon)\n",
    "                            repeat.append(1)\n",
    "                    else:\n",
    "                        empty.append(line)\n",
    "                else:\n",
    "                    empty.append(co)"
   ]
  },
  {
   "cell_type": "code",
   "execution_count": 24,
   "metadata": {
    "collapsed": false
   },
   "outputs": [],
   "source": [
    "string = [\"Mopani\", \"Vhembe\", \"Binga\", \"Limpopo\"]\n",
    "\n",
    "for s in string:\n",
    "    response = urllib2.urlopen(\"http://nominatim.openstreetmap.org/search?q=\"+ s +\"&format=json&addressdetails=1&limit=1\")\n",
    "    data = json.load(response)\n",
    "    if len(data) != 0:\n",
    "        if (data[0]['lat'] and data[0]['lon']):\n",
    "            tmplat = data[0]['lat'].encode('utf-8')\n",
    "            tmplon = data[0]['lon'].encode('utf-8')\n",
    "            if tmplat in Lat and tmplon in Lon:\n",
    "                continue\n",
    "            else:\n",
    "                Lat.append(tmplat)\n",
    "                Lon.append(tmplon)\n",
    "                tmp = 0\n",
    "                for line in outbreak:\n",
    "                    if s in line:\n",
    "                        tmp += 1\n",
    "                repeat.append(tmp)\n",
    "        else:\n",
    "            empty.append(line)\n",
    "    else:\n",
    "        empty.append(c)"
   ]
  },
  {
   "cell_type": "code",
   "execution_count": 25,
   "metadata": {
    "collapsed": false
   },
   "outputs": [
    {
     "data": {
      "text/plain": [
       "7"
      ]
     },
     "execution_count": 25,
     "metadata": {},
     "output_type": "execute_result"
    }
   ],
   "source": [
    "len(repeat)"
   ]
  },
  {
   "cell_type": "code",
   "execution_count": 26,
   "metadata": {
    "collapsed": false
   },
   "outputs": [],
   "source": [
    "with open('break_loc_lon_lat_repeat.csv', 'wb') as f:\n",
    "    writer = csv.writer(f)\n",
    "    writer.writerows(izip(Lat, Lon, repeat))"
   ]
  },
  {
   "cell_type": "code",
   "execution_count": 46,
   "metadata": {
    "collapsed": false
   },
   "outputs": [
    {
     "data": {
      "text/plain": [
       "59"
      ]
     },
     "execution_count": 46,
     "metadata": {},
     "output_type": "execute_result"
    }
   ],
   "source": [
    "vacTextLocation = []\n",
    "for line in vaccine:\n",
    "    temp = GeoText(line)\n",
    "    if temp.cities or temp.countries:\n",
    "        if temp.cities:\n",
    "            for c in temp.cities:\n",
    "                vacTextLocation.append(c)\n",
    "        else:\n",
    "            for c in temp.countries:\n",
    "                vacTextLocation.append(c)\n",
    "len(vacTextLocation)"
   ]
  },
  {
   "cell_type": "code",
   "execution_count": 47,
   "metadata": {
    "collapsed": true
   },
   "outputs": [],
   "source": [
    "Lon = []\n",
    "Lat = []\n",
    "empty = []"
   ]
  },
  {
   "cell_type": "code",
   "execution_count": 48,
   "metadata": {
    "collapsed": false
   },
   "outputs": [],
   "source": [
    "from collections import Counter\n",
    "temp = Counter(vacTextLocation)\n",
    "for line in temp:\n",
    "    repeated = temp[line]\n",
    "    tmp = line.replace(\" \",\"%20\")\n",
    "    response = urllib2.urlopen(\"http://nominatim.openstreetmap.org/search?q=\"+ tmp +\"&format=json&addressdetails=1&limit=1\")\n",
    "    data = json.load(response)\n",
    "    if len(data) != 0:\n",
    "        if (data[0]['lat'] and data[0]['lon']):\n",
    "            tmplat = data[0]['lat'].encode('utf-8')\n",
    "            tmplon = data[0]['lon'].encode('utf-8')\n",
    "            for i in range(0, repeated):\n",
    "                Lat.append(tmplat)\n",
    "                Lon.append(tmplon)             \n",
    "        else:\n",
    "            empty.append(line)\n",
    "    else:\n",
    "        empty.append(line)"
   ]
  },
  {
   "cell_type": "code",
   "execution_count": 49,
   "metadata": {
    "collapsed": false
   },
   "outputs": [],
   "source": [
    "with open('vac_text_lon_lat.csv', 'wb') as f:\n",
    "    writer = csv.writer(f)\n",
    "    writer.writerows(izip(Lat, Lon))"
   ]
  },
  {
   "cell_type": "code",
   "execution_count": 50,
   "metadata": {
    "collapsed": false
   },
   "outputs": [],
   "source": [
    "Lon = []\n",
    "Lat = []\n",
    "empty = []\n",
    "repeat = []"
   ]
  },
  {
   "cell_type": "code",
   "execution_count": 51,
   "metadata": {
    "collapsed": false
   },
   "outputs": [],
   "source": [
    "vaccineLocWithoutNone = []\n",
    "\n",
    "for lc in vaccineLoc:\n",
    "    if lc != None:\n",
    "        vaccineLocWithoutNone.append(lc)\n",
    "\n",
    "tmpVacLoc = Counter(vaccineLocWithoutNone)"
   ]
  },
  {
   "cell_type": "code",
   "execution_count": 55,
   "metadata": {
    "collapsed": false
   },
   "outputs": [],
   "source": [
    "regexHashtag = r'#(\\w+)'\n",
    "\n",
    "for line in tmpVacLoc:\n",
    "    if re.match(regexHashtag, line):\n",
    "        empty.append(line)\n",
    "        continue\n",
    "    repeated = tmpVacLoc[line]\n",
    "    tmp = line.replace(\" \",\"%20\")\n",
    "    response = urllib2.urlopen(\"http://nominatim.openstreetmap.org/search?q=\"+ tmp +\"&format=json&addressdetails=1&limit=1\")\n",
    "    data = json.load(response)\n",
    "    if len(data) != 0:\n",
    "        if (data[0]['lat'] and data[0]['lon']):\n",
    "            tmplat = data[0]['lat'].encode('utf-8')\n",
    "            tmplon = data[0]['lon'].encode('utf-8')\n",
    "            for i in range(0, repeated):\n",
    "                Lat.append(tmplat)\n",
    "                Lon.append(tmplon)             \n",
    "        else:\n",
    "            empty.append(line)\n",
    "    else:\n",
    "        empty.append(line)"
   ]
  },
  {
   "cell_type": "code",
   "execution_count": null,
   "metadata": {
    "collapsed": false
   },
   "outputs": [],
   "source": []
  },
  {
   "cell_type": "code",
   "execution_count": null,
   "metadata": {
    "collapsed": false
   },
   "outputs": [],
   "source": []
  },
  {
   "cell_type": "code",
   "execution_count": null,
   "metadata": {
    "collapsed": false
   },
   "outputs": [],
   "source": []
  },
  {
   "cell_type": "code",
   "execution_count": null,
   "metadata": {
    "collapsed": false
   },
   "outputs": [],
   "source": []
  },
  {
   "cell_type": "code",
   "execution_count": null,
   "metadata": {
    "collapsed": false
   },
   "outputs": [],
   "source": []
  },
  {
   "cell_type": "code",
   "execution_count": null,
   "metadata": {
    "collapsed": true
   },
   "outputs": [],
   "source": []
  },
  {
   "cell_type": "code",
   "execution_count": null,
   "metadata": {
    "collapsed": false
   },
   "outputs": [],
   "source": []
  },
  {
   "cell_type": "code",
   "execution_count": null,
   "metadata": {
    "collapsed": false
   },
   "outputs": [],
   "source": []
  },
  {
   "cell_type": "code",
   "execution_count": null,
   "metadata": {
    "collapsed": false
   },
   "outputs": [],
   "source": []
  },
  {
   "cell_type": "code",
   "execution_count": null,
   "metadata": {
    "collapsed": false
   },
   "outputs": [],
   "source": []
  },
  {
   "cell_type": "code",
   "execution_count": null,
   "metadata": {
    "collapsed": false
   },
   "outputs": [],
   "source": []
  },
  {
   "cell_type": "code",
   "execution_count": null,
   "metadata": {
    "collapsed": true
   },
   "outputs": [],
   "source": []
  }
 ],
 "metadata": {
  "kernelspec": {
   "display_name": "Python 2",
   "language": "python",
   "name": "python2"
  },
  "language_info": {
   "codemirror_mode": {
    "name": "ipython",
    "version": 2
   },
   "file_extension": ".py",
   "mimetype": "text/x-python",
   "name": "python",
   "nbconvert_exporter": "python",
   "pygments_lexer": "ipython2",
   "version": "2.7.13"
  }
 },
 "nbformat": 4,
 "nbformat_minor": 2
}
