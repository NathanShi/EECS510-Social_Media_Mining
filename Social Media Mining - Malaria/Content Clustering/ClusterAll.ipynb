{
 "cells": [
  {
   "cell_type": "code",
   "execution_count": 1,
   "metadata": {
    "collapsed": true
   },
   "outputs": [],
   "source": [
    "import pandas as pd\n",
    "import numpy as np\n",
    "import ast\n",
    "import csv\n",
    "import json\n",
    "import re"
   ]
  },
  {
   "cell_type": "code",
   "execution_count": 2,
   "metadata": {
    "collapsed": true
   },
   "outputs": [],
   "source": [
    "def load_json_multiple(segments):\n",
    "    #chunk = \"\"\n",
    "    for segment in segments:\n",
    "        #chunk += segment\n",
    "        try:\n",
    "            yield json.loads(segment)\n",
    "            #chunk = \"\"\n",
    "        except ValueError:\n",
    "            pass\n",
    "\n",
    "\n",
    "tweets_json = []\n",
    "\n",
    "with open('all.json') as f:\n",
    "    for parsed_json in load_json_multiple(f):\n",
    "        tweets_json.append(parsed_json)"
   ]
  },
  {
   "cell_type": "code",
   "execution_count": 3,
   "metadata": {
    "collapsed": true
   },
   "outputs": [],
   "source": [
    "#tweets_json"
   ]
  },
  {
   "cell_type": "code",
   "execution_count": 4,
   "metadata": {
    "collapsed": true
   },
   "outputs": [],
   "source": [
    "text = []\n",
    "for line in tweets_json:\n",
    "    if line == 420:\n",
    "        continue\n",
    "    if 'text' in line:\n",
    "        text.append(line['text'])"
   ]
  },
  {
   "cell_type": "code",
   "execution_count": 5,
   "metadata": {
    "collapsed": true
   },
   "outputs": [],
   "source": [
    "def isEnglish(s):\n",
    "    try:\n",
    "        s.encode('ascii')\n",
    "    except UnicodeEncodeError:\n",
    "        return False\n",
    "    else:\n",
    "        return True"
   ]
  },
  {
   "cell_type": "code",
   "execution_count": 6,
   "metadata": {
    "collapsed": true
   },
   "outputs": [],
   "source": [
    "Eng = []\n",
    "for line in text:\n",
    "    if isEnglish(line):\n",
    "        Eng.append(line)"
   ]
  },
  {
   "cell_type": "code",
   "execution_count": 7,
   "metadata": {
    "collapsed": true
   },
   "outputs": [],
   "source": [
    "#Eng"
   ]
  },
  {
   "cell_type": "code",
   "execution_count": 8,
   "metadata": {
    "collapsed": true
   },
   "outputs": [],
   "source": [
    "removeMention = []\n",
    "regexM = r'@\\S*(?=\\s)'\n",
    "regexH = r'https://t.co/[a-zA-Z0-9]{10}'\n",
    "for line in Eng:\n",
    "    tempM = \"\"\n",
    "    tempH = \"\"\n",
    "    \n",
    "    if \"@\" in line and \"https\" in line:\n",
    "        lit = re.findall(regexM, line)\n",
    "        htp = re.findall(regexH, line)\n",
    "        for word in lit:\n",
    "            tempM = line.replace(word, \"\")\n",
    "        for word in htp:\n",
    "            tempH = tempM.replace(word, \"\")\n",
    "        \n",
    "        tp = tempH.replace(\"#\", \"\")\n",
    "        removeMention.append(tp)\n",
    "    \n",
    "    elif \"@\" in line:\n",
    "        lit = re.findall(regexM, line)\n",
    "        for word in lit:\n",
    "            tempM = line.replace(word, \"\")\n",
    "            \n",
    "        tp = tempM.replace(\"#\", \"\")\n",
    "        removeMention.append(tp)\n",
    "\n",
    "    elif \"https\" in line:\n",
    "        htp = re.findall(regexH, line)\n",
    "        for word in htp:\n",
    "            tempH = line.replace(word, \"\")\n",
    "        \n",
    "        tp = tempH.replace(\"#\", \"\")\n",
    "        removeMention.append(tp)\n",
    "        \n",
    "    else:\n",
    "        removeMention.append(line)"
   ]
  },
  {
   "cell_type": "code",
   "execution_count": 9,
   "metadata": {
    "collapsed": true
   },
   "outputs": [],
   "source": [
    "#len(removeMention) == len(Eng)\n",
    "#removeMention"
   ]
  },
  {
   "cell_type": "code",
   "execution_count": 10,
   "metadata": {
    "collapsed": true
   },
   "outputs": [],
   "source": [
    "from sklearn.feature_extraction.text import TfidfVectorizer\n",
    "from sklearn.cluster import KMeans\n",
    "from sklearn.metrics import adjusted_rand_score"
   ]
  },
  {
   "cell_type": "code",
   "execution_count": 11,
   "metadata": {
    "collapsed": true
   },
   "outputs": [],
   "source": [
    "#len(MentionedAccount)\n",
    "#MentionedAccount"
   ]
  },
  {
   "cell_type": "code",
   "execution_count": 12,
   "metadata": {
    "collapsed": true
   },
   "outputs": [],
   "source": [
    "vectorizer = TfidfVectorizer(stop_words='english')\n",
    "X = vectorizer.fit_transform(removeMention)"
   ]
  },
  {
   "cell_type": "code",
   "execution_count": 13,
   "metadata": {},
   "outputs": [
    {
     "data": {
      "text/plain": [
       "KMeans(algorithm='auto', copy_x=True, init='k-means++', max_iter=100,\n",
       "    n_clusters=20, n_init=1, n_jobs=1, precompute_distances='auto',\n",
       "    random_state=None, tol=0.0001, verbose=0)"
      ]
     },
     "execution_count": 13,
     "metadata": {},
     "output_type": "execute_result"
    }
   ],
   "source": [
    "#temp.items()\n",
    "true_k = 20\n",
    "model = KMeans(n_clusters=true_k, init='k-means++', max_iter=100, n_init=1)\n",
    "model.fit(X)"
   ]
  },
  {
   "cell_type": "code",
   "execution_count": 14,
   "metadata": {
    "collapsed": true
   },
   "outputs": [],
   "source": [
    "#print(\"Top terms per cluster:\")\n",
    "order_centroids = model.cluster_centers_.argsort()[:, ::-1]\n",
    "terms = vectorizer.get_feature_names()\n",
    "# for i in range(true_k):\n",
    "#     print (\"Cluster %d:\" % i,)\n",
    "#     for ind in order_centroids[i, :10]:\n",
    "#         print (' %s' % terms[ind]),\n",
    "#     print"
   ]
  },
  {
   "cell_type": "code",
   "execution_count": 15,
   "metadata": {
    "collapsed": true
   },
   "outputs": [],
   "source": [
    "w, h = 8, 20;\n",
    "Matrix = [[0 for x in range(w)] for y in range(h)] \n",
    "#print(Matrix)"
   ]
  },
  {
   "cell_type": "code",
   "execution_count": 16,
   "metadata": {
    "collapsed": true
   },
   "outputs": [],
   "source": [
    "for i in range(0, true_k-1):\n",
    "    j = 0\n",
    "    for ind in order_centroids[i, :8]:\n",
    "        #print(i, j)\n",
    "        Matrix[i][j] = ('%s' % terms[ind])\n",
    "        j += 1"
   ]
  },
  {
   "cell_type": "code",
   "execution_count": 26,
   "metadata": {
    "collapsed": true
   },
   "outputs": [],
   "source": [
    "with open('cluster.csv', 'w', newline='') as f:\n",
    "    \n",
    "    writer = csv.writer(f)\n",
    "    writer.writerows(Matrix)    "
   ]
  },
  {
   "cell_type": "code",
   "execution_count": 155,
   "metadata": {
    "collapsed": true
   },
   "outputs": [],
   "source": []
  },
  {
   "cell_type": "code",
   "execution_count": null,
   "metadata": {
    "collapsed": true
   },
   "outputs": [],
   "source": []
  },
  {
   "cell_type": "code",
   "execution_count": 156,
   "metadata": {
    "collapsed": true
   },
   "outputs": [],
   "source": []
  },
  {
   "cell_type": "code",
   "execution_count": 167,
   "metadata": {
    "collapsed": true
   },
   "outputs": [],
   "source": [
    "#len(MatrixContent[0])"
   ]
  },
  {
   "cell_type": "code",
   "execution_count": 169,
   "metadata": {
    "collapsed": true
   },
   "outputs": [],
   "source": [
    "#MatrixContent[1]"
   ]
  },
  {
   "cell_type": "code",
   "execution_count": 170,
   "metadata": {
    "collapsed": true
   },
   "outputs": [],
   "source": [
    "#len(MatrixContent[3])"
   ]
  },
  {
   "cell_type": "code",
   "execution_count": 171,
   "metadata": {
    "collapsed": true
   },
   "outputs": [],
   "source": [
    "#EachPoint"
   ]
  },
  {
   "cell_type": "code",
   "execution_count": 172,
   "metadata": {
    "collapsed": true
   },
   "outputs": [],
   "source": [
    "#MatrixContent[0]"
   ]
  },
  {
   "cell_type": "code",
   "execution_count": 173,
   "metadata": {
    "collapsed": true
   },
   "outputs": [],
   "source": [
    "#len(Unmatched)"
   ]
  },
  {
   "cell_type": "code",
   "execution_count": 18,
   "metadata": {
    "collapsed": true
   },
   "outputs": [],
   "source": [
    "MartixOpmzd = []"
   ]
  },
  {
   "cell_type": "code",
   "execution_count": 19,
   "metadata": {},
   "outputs": [],
   "source": [
    "#manually changed the cluster, erase the nonsense words.\n",
    "f = open(\"cluster.csv\", 'r')\n",
    "try:\n",
    "    reader = csv.reader(f)\n",
    "    for row in reader:\n",
    "        MartixOpmzd.append(row)\n",
    "finally:\n",
    "    f.close()"
   ]
  },
  {
   "cell_type": "code",
   "execution_count": 34,
   "metadata": {},
   "outputs": [
    {
     "data": {
      "text/plain": [
       "[['malaria',\n",
       "  'important',\n",
       "  'worldmalariaday',\n",
       "  'higher',\n",
       "  'disease',\n",
       "  'geography',\n",
       "  'tropicaldisease'],\n",
       " ['air', 'pollution', 'kills', 'globally', 'children', 'indoor', 'yes'],\n",
       " ['styled', 'living', 'god', 'self', 'died', '2015'],\n",
       " ['free', 'rise', 'maldives', 'murder', 'travelers', 'make'],\n",
       " ['vaccine', 'ghana', 'malawi', '2018', 'sea', 'created', 'enemy', 'trust'],\n",
       " ['korea',\n",
       "  'north',\n",
       "  'contact',\n",
       "  'oks',\n",
       "  'civilian',\n",
       "  'usatoday',\n",
       "  'malaria',\n",
       "  'washington'],\n",
       " ['treat', 'phrase', 'lots', 'heard', 'better', 'cure', 'join', 'prevention'],\n",
       " ['oneactagainstmalaria',\n",
       "  'did',\n",
       "  'nigeria',\n",
       "  'know',\n",
       "  'source',\n",
       "  'malaria',\n",
       "  'stopped',\n",
       "  'estimates'],\n",
       " ['bush', 'george', 'got', 'say', 'field', 'figting', 'film'],\n",
       " ['malaria', 'anti', 'world', 'africa', 'health', 'day'],\n",
       " ['tickets',\n",
       "  'hotels',\n",
       "  'combined',\n",
       "  'more',\n",
       "  'travel',\n",
       "  'aids',\n",
       "  'plane',\n",
       "  'who',\n",
       "  'money',\n",
       "  'malaria',\n",
       "  ''],\n",
       " ['cases',\n",
       "  'plant',\n",
       "  'therapy',\n",
       "  'cured',\n",
       "  'drug',\n",
       "  'africa',\n",
       "  'million',\n",
       "  'malaria'],\n",
       " ['scientists',\n",
       "  'fight',\n",
       "  'finally',\n",
       "  'discovered',\n",
       "  'malaria',\n",
       "  'vaccine',\n",
       "  'report',\n",
       "  'progress'],\n",
       " ['drugs', 'experiences', 'worst', 'limpopo', 'akwa', 'ibom', 'provides'],\n",
       " ['end',\n",
       "  'oneactagainstmalaria',\n",
       "  'menace',\n",
       "  'africa',\n",
       "  'ending',\n",
       "  'malaria',\n",
       "  'play',\n",
       "  'efforts'],\n",
       " ['courses', 'mooc', 'harvard', 'university', 'online', 'free'],\n",
       " ['prevention',\n",
       "  '5000',\n",
       "  'persons',\n",
       "  'quicker',\n",
       "  'route',\n",
       "  'kick',\n",
       "  'better',\n",
       "  'malaria'],\n",
       " ['aids', 'spent', 'tickets', 'plane', 'hotels', 'health', 'world'],\n",
       " ['experimental',\n",
       "  'monkeys',\n",
       "  'protects',\n",
       "  'deadly',\n",
       "  'modified',\n",
       "  'vaccine',\n",
       "  'malaria'],\n",
       " ['fund', 'budget', 'million', 'malaria', 'trump', 'cuts', 'aids']]"
      ]
     },
     "execution_count": 34,
     "metadata": {},
     "output_type": "execute_result"
    }
   ],
   "source": [
    "MartixOpmzd"
   ]
  },
  {
   "cell_type": "code",
   "execution_count": 20,
   "metadata": {
    "collapsed": true
   },
   "outputs": [],
   "source": [
    "listofContents = []\n",
    "MatrixContent = [[] for _ in range(20)]\n",
    "Unmatched = []\n",
    "manualLabel = []\n",
    "EachPoint = [0] * 21"
   ]
  },
  {
   "cell_type": "code",
   "execution_count": 21,
   "metadata": {
    "collapsed": true
   },
   "outputs": [],
   "source": [
    "for line in Eng:\n",
    "    Point = [0] * 20\n",
    "    #print(Point)\n",
    "    temp = line.split(\" \")\n",
    "    for word in temp:\n",
    "        #print(word)\n",
    "        for ir in range(0, 14):\n",
    "            wd = word.lower().strip()\n",
    "            if wd in MartixOpmzd[ir]:\n",
    "                Point[ir] += 1\n",
    "    mmax = Point.index(max(Point))\n",
    "    if Point.count(Point[mmax]) > 1:\n",
    "        manualLabel.append(line)\n",
    "    #print(mmax)\n",
    "    else:\n",
    "        if sum(Point) == 0:\n",
    "            Unmatched.append(line)\n",
    "            EachPoint[20] += 1\n",
    "        else:\n",
    "            if line not in MatrixContent[mmax]:\n",
    "                MatrixContent[mmax].append(line)\n",
    "            EachPoint[mmax] += 1\n",
    "       "
   ]
  },
  {
   "cell_type": "code",
   "execution_count": 24,
   "metadata": {},
   "outputs": [
    {
     "data": {
      "text/plain": [
       "0.20075893176773824"
      ]
     },
     "execution_count": 24,
     "metadata": {},
     "output_type": "execute_result"
    }
   ],
   "source": [
    "len(Unmatched) / len(Eng)"
   ]
  },
  {
   "cell_type": "code",
   "execution_count": null,
   "metadata": {},
   "outputs": [],
   "source": []
  },
  {
   "cell_type": "code",
   "execution_count": null,
   "metadata": {},
   "outputs": [],
   "source": []
  },
  {
   "cell_type": "code",
   "execution_count": null,
   "metadata": {
    "collapsed": true
   },
   "outputs": [],
   "source": []
  }
 ],
 "metadata": {
  "kernelspec": {
   "display_name": "Python 3",
   "language": "python",
   "name": "python3"
  },
  "language_info": {
   "codemirror_mode": {
    "name": "ipython",
    "version": 3
   },
   "file_extension": ".py",
   "mimetype": "text/x-python",
   "name": "python",
   "nbconvert_exporter": "python",
   "pygments_lexer": "ipython3",
   "version": "3.6.1"
  }
 },
 "nbformat": 4,
 "nbformat_minor": 2
}
