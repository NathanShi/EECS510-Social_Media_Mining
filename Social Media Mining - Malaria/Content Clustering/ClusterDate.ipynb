{
 "cells": [
  {
   "cell_type": "code",
   "execution_count": 1,
   "metadata": {
    "collapsed": true
   },
   "outputs": [],
   "source": [
    "import pandas as pd\n",
    "import numpy as np\n",
    "import ast\n",
    "import csv\n",
    "import json\n",
    "import re"
   ]
  },
  {
   "cell_type": "code",
   "execution_count": 3,
   "metadata": {},
   "outputs": [],
   "source": [
    "def load_json_multiple(segments):\n",
    "    #chunk = \"\"\n",
    "    for segment in segments:\n",
    "        #chunk += segment\n",
    "        try:\n",
    "            yield json.loads(segment)\n",
    "            #chunk = \"\"\n",
    "        except ValueError:\n",
    "            pass\n",
    "\n",
    "\n",
    "tweets_json = []\n",
    "\n",
    "with open('merged_25.json') as f:\n",
    "    for parsed_json in load_json_multiple(f):\n",
    "        tweets_json.append(parsed_json)"
   ]
  },
  {
   "cell_type": "code",
   "execution_count": 4,
   "metadata": {
    "collapsed": true
   },
   "outputs": [],
   "source": [
    "text = []\n",
    "for line in tweets_json:\n",
    "    if line == 420:\n",
    "        continue\n",
    "    if 'text' in line:\n",
    "        text.append(line['text'])"
   ]
  },
  {
   "cell_type": "code",
   "execution_count": 5,
   "metadata": {
    "collapsed": true
   },
   "outputs": [],
   "source": [
    "def isEnglish(s):\n",
    "    try:\n",
    "        s.encode('ascii')\n",
    "    except UnicodeEncodeError:\n",
    "        return False\n",
    "    else:\n",
    "        return True"
   ]
  },
  {
   "cell_type": "code",
   "execution_count": 6,
   "metadata": {
    "collapsed": true
   },
   "outputs": [],
   "source": [
    "Eng = []\n",
    "for line in text:\n",
    "    if isEnglish(line):\n",
    "        Eng.append(line)"
   ]
  },
  {
   "cell_type": "code",
   "execution_count": 7,
   "metadata": {
    "collapsed": true
   },
   "outputs": [],
   "source": [
    "removeMention = []\n",
    "regexM = r'@\\S*(?=\\s)'\n",
    "regexH = r'https://t.co/[a-zA-Z0-9]{10}'\n",
    "for line in Eng:\n",
    "    tempM = \"\"\n",
    "    tempH = \"\"\n",
    "    \n",
    "    if \"@\" in line and \"https\" in line:\n",
    "        lit = re.findall(regexM, line)\n",
    "        htp = re.findall(regexH, line)\n",
    "        for word in lit:\n",
    "            tempM = line.replace(word, \"\")\n",
    "        for word in htp:\n",
    "            tempH = tempM.replace(word, \"\")\n",
    "        \n",
    "        tp = tempH.replace(\"#\", \"\")\n",
    "        removeMention.append(tp)\n",
    "    \n",
    "    elif \"@\" in line:\n",
    "        lit = re.findall(regexM, line)\n",
    "        for word in lit:\n",
    "            tempM = line.replace(word, \"\")\n",
    "            \n",
    "        tp = tempM.replace(\"#\", \"\")\n",
    "        removeMention.append(tp)\n",
    "\n",
    "    elif \"https\" in line:\n",
    "        htp = re.findall(regexH, line)\n",
    "        for word in htp:\n",
    "            tempH = line.replace(word, \"\")\n",
    "        \n",
    "        tp = tempH.replace(\"#\", \"\")\n",
    "        removeMention.append(tp)\n",
    "        \n",
    "    else:\n",
    "        removeMention.append(line)"
   ]
  },
  {
   "cell_type": "code",
   "execution_count": 8,
   "metadata": {
    "collapsed": true
   },
   "outputs": [],
   "source": [
    "from sklearn.feature_extraction.text import TfidfVectorizer\n",
    "from sklearn.cluster import KMeans\n",
    "from sklearn.metrics import adjusted_rand_score"
   ]
  },
  {
   "cell_type": "code",
   "execution_count": 9,
   "metadata": {
    "collapsed": true
   },
   "outputs": [],
   "source": [
    "vectorizer = TfidfVectorizer(stop_words='english')\n",
    "X = vectorizer.fit_transform(removeMention)"
   ]
  },
  {
   "cell_type": "code",
   "execution_count": 26,
   "metadata": {},
   "outputs": [
    {
     "data": {
      "text/plain": [
       "KMeans(algorithm='auto', copy_x=True, init='k-means++', max_iter=100,\n",
       "    n_clusters=10, n_init=1, n_jobs=1, precompute_distances='auto',\n",
       "    random_state=None, tol=0.0001, verbose=0)"
      ]
     },
     "execution_count": 26,
     "metadata": {},
     "output_type": "execute_result"
    }
   ],
   "source": [
    "true_k = 10\n",
    "model = KMeans(n_clusters=true_k, init='k-means++', max_iter=100, n_init=1)\n",
    "model.fit(X)"
   ]
  },
  {
   "cell_type": "code",
   "execution_count": 27,
   "metadata": {
    "scrolled": true
   },
   "outputs": [],
   "source": [
    "#print(\"Top terms per cluster:\")\n",
    "order_centroids = model.cluster_centers_.argsort()[:, ::-1]\n",
    "terms = vectorizer.get_feature_names()\n",
    "# for i in range(true_k):\n",
    "#     print (\"Cluster %d:\" % i,)\n",
    "#     for ind in order_centroids[i, :10]:\n",
    "#         print (' %s' % terms[ind]),\n",
    "#     print"
   ]
  },
  {
   "cell_type": "code",
   "execution_count": 28,
   "metadata": {
    "collapsed": true
   },
   "outputs": [],
   "source": [
    "w, h = 8, 10;\n",
    "Matrix = [[0 for x in range(w)] for y in range(h)] \n",
    "#print(Matrix)"
   ]
  },
  {
   "cell_type": "code",
   "execution_count": 29,
   "metadata": {
    "collapsed": true
   },
   "outputs": [],
   "source": [
    "for i in range(0, true_k-1):\n",
    "    j = 0\n",
    "    for ind in order_centroids[i, :8]:\n",
    "        #print(i, j)\n",
    "        Matrix[i][j] = ('%s' % terms[ind])\n",
    "        j += 1"
   ]
  },
  {
   "cell_type": "code",
   "execution_count": 30,
   "metadata": {
    "collapsed": true
   },
   "outputs": [],
   "source": [
    "with open('cluster_25.csv', 'w', newline='') as f:\n",
    "    \n",
    "    writer = csv.writer(f)\n",
    "    writer.writerows(Matrix)    "
   ]
  },
  {
   "cell_type": "code",
   "execution_count": 32,
   "metadata": {
    "collapsed": true
   },
   "outputs": [],
   "source": [
    "MartixOpmzd = []"
   ]
  },
  {
   "cell_type": "code",
   "execution_count": 33,
   "metadata": {},
   "outputs": [],
   "source": [
    "#manually changed the cluster, erase the nonsense words.\n",
    "f = open(\"cluster_25.csv\", 'r')\n",
    "try:\n",
    "    reader = csv.reader(f)\n",
    "    for row in reader:\n",
    "        MartixOpmzd.append(row)\n",
    "finally:\n",
    "    f.close()"
   ]
  },
  {
   "cell_type": "code",
   "execution_count": 36,
   "metadata": {
    "collapsed": true
   },
   "outputs": [],
   "source": [
    "MatrixContent = [[] for _ in range(8)]\n",
    "Unmatched = []\n",
    "manualLabel = []\n",
    "EachPoint = [0] * 9"
   ]
  },
  {
   "cell_type": "code",
   "execution_count": 37,
   "metadata": {},
   "outputs": [],
   "source": [
    "for line in removeMention:\n",
    "    Point = [0] * 8\n",
    "    #print(Point)\n",
    "    temp = line.split(\" \")\n",
    "    for word in temp:\n",
    "        #print(word)\n",
    "        for ir in range(0, 7):\n",
    "            wd = word.lower().strip()\n",
    "            if wd in MartixOpmzd[ir]:\n",
    "                Point[ir] += 1\n",
    "    mmax = Point.index(max(Point))\n",
    "    if Point.count(Point[mmax]) > 1:\n",
    "        manualLabel.append(line)\n",
    "    #print(mmax)\n",
    "    else:\n",
    "        if sum(Point) == 0:\n",
    "            Unmatched.append(line)\n",
    "            EachPoint[20] += 1\n",
    "        else:\n",
    "            if line not in MatrixContent[mmax]:\n",
    "                MatrixContent[mmax].append(line)\n",
    "            EachPoint[mmax] += 1"
   ]
  },
  {
   "cell_type": "code",
   "execution_count": 13,
   "metadata": {
    "collapsed": true
   },
   "outputs": [],
   "source": [
    "#MatrixContent[1]"
   ]
  },
  {
   "cell_type": "code",
   "execution_count": 38,
   "metadata": {},
   "outputs": [
    {
     "data": {
      "text/plain": [
       "[15, 73, 64, 34, 59, 234, 34, 0, 0]"
      ]
     },
     "execution_count": 38,
     "metadata": {},
     "output_type": "execute_result"
    }
   ],
   "source": [
    "EachPoint"
   ]
  },
  {
   "cell_type": "code",
   "execution_count": 39,
   "metadata": {},
   "outputs": [
    {
     "data": {
      "text/plain": [
       "0"
      ]
     },
     "execution_count": 39,
     "metadata": {},
     "output_type": "execute_result"
    }
   ],
   "source": [
    "len(Unmatched)"
   ]
  },
  {
   "cell_type": "code",
   "execution_count": null,
   "metadata": {
    "collapsed": true
   },
   "outputs": [],
   "source": []
  }
 ],
 "metadata": {
  "kernelspec": {
   "display_name": "Python 3",
   "language": "python",
   "name": "python3"
  },
  "language_info": {
   "codemirror_mode": {
    "name": "ipython",
    "version": 3
   },
   "file_extension": ".py",
   "mimetype": "text/x-python",
   "name": "python",
   "nbconvert_exporter": "python",
   "pygments_lexer": "ipython3",
   "version": "3.6.1"
  }
 },
 "nbformat": 4,
 "nbformat_minor": 2
}
