{
 "cells": [
  {
   "cell_type": "code",
   "execution_count": 2,
   "metadata": {
    "collapsed": true
   },
   "outputs": [],
   "source": [
    "import pandas as pd\n",
    "import numpy as np\n",
    "import ast\n",
    "import csv\n",
    "import json\n",
    "import re"
   ]
  },
  {
   "cell_type": "code",
   "execution_count": 3,
   "metadata": {
    "collapsed": true
   },
   "outputs": [],
   "source": [
    "def load_json_multiple(segments):\n",
    "    #chunk = \"\"\n",
    "    for segment in segments:\n",
    "        #chunk += segment\n",
    "        try:\n",
    "            yield json.loads(segment)\n",
    "            #chunk = \"\"\n",
    "        except ValueError:\n",
    "            pass\n",
    "\n",
    "\n",
    "tweets_json = []\n",
    "\n",
    "with open('all.json') as f:\n",
    "    for parsed_json in load_json_multiple(f):\n",
    "        tweets_json.append(parsed_json)"
   ]
  },
  {
   "cell_type": "code",
   "execution_count": 4,
   "metadata": {
    "collapsed": true
   },
   "outputs": [],
   "source": [
    "#tweets_json"
   ]
  },
  {
   "cell_type": "code",
   "execution_count": 5,
   "metadata": {
    "collapsed": true
   },
   "outputs": [],
   "source": [
    "text = []\n",
    "userAccount = []\n",
    "for line in tweets_json:\n",
    "    if line == 420:\n",
    "        continue\n",
    "    if 'text' in line:\n",
    "        text.append(line['text'])\n",
    "    if 'user' in line:\n",
    "        if 'screen_name' in line['user']:\n",
    "            userAccount.append(line['user']['screen_name'])"
   ]
  },
  {
   "cell_type": "code",
   "execution_count": 5,
   "metadata": {
    "collapsed": true
   },
   "outputs": [],
   "source": [
    "# len(text) == len(userAccount)\n",
    "# len(text)\n",
    "MT = []\n",
    "MTUA = []\n",
    "for line in text:\n",
    "    ind = text.index(line)\n",
    "    if \"@\" in line:\n",
    "        MT.append(line)\n",
    "        MTUA.append(userAccount[ind])"
   ]
  },
  {
   "cell_type": "code",
   "execution_count": 6,
   "metadata": {},
   "outputs": [
    {
     "data": {
      "text/plain": [
       "True"
      ]
     },
     "execution_count": 6,
     "metadata": {},
     "output_type": "execute_result"
    }
   ],
   "source": [
    "len(MT) == len(MTUA)"
   ]
  },
  {
   "cell_type": "raw",
   "metadata": {},
   "source": []
  },
  {
   "cell_type": "code",
   "execution_count": 7,
   "metadata": {
    "collapsed": true
   },
   "outputs": [],
   "source": [
    "MentionedAccount = []\n",
    "AlignedUserAccount = []\n",
    "\n",
    "for line in MT:\n",
    "    ind = MT.index(line)\n",
    "    tmp = line.split(\" \")\n",
    "    for t in tmp:\n",
    "        nt = t.replace(\":\", \"\")\n",
    "        if \"@\" in nt:\n",
    "            MentionedAccount.append(nt)\n",
    "            AlignedUserAccount.append(MTUA[ind])"
   ]
  },
  {
   "cell_type": "code",
   "execution_count": 61,
   "metadata": {
    "collapsed": true
   },
   "outputs": [],
   "source": [
    "#len(MentionedAccount)\n",
    "#MentionedAccount"
   ]
  },
  {
   "cell_type": "code",
   "execution_count": 8,
   "metadata": {
    "collapsed": true
   },
   "outputs": [],
   "source": [
    "from collections import Counter\n",
    "temp = Counter(MentionedAccount)"
   ]
  },
  {
   "cell_type": "code",
   "execution_count": null,
   "metadata": {
    "collapsed": true
   },
   "outputs": [],
   "source": [
    "#from itertools import izip\n",
    "with open('Mentioned.csv', 'w') as f:\n",
    "    fieldnames=['account','times']\n",
    "    writer = csv.writer(f)\n",
    "    writer.writerow(fieldnames)\n",
    "\n",
    "    writer.writerows(temp.items())"
   ]
  },
  {
   "cell_type": "code",
   "execution_count": 9,
   "metadata": {
    "collapsed": true
   },
   "outputs": [],
   "source": [
    "#temp.items()\n",
    "Act = []\n",
    "for line in AlignedUserAccount:\n",
    "    temp = \"@\" + line\n",
    "    Act.append(temp)"
   ]
  },
  {
   "cell_type": "code",
   "execution_count": 76,
   "metadata": {
    "collapsed": true
   },
   "outputs": [],
   "source": [
    "#from itertools import izip\n",
    "with open('mentioned_user.csv', 'w', newline='') as f:\n",
    "    \n",
    "    writer = csv.writer(f)\n",
    "    writer.writerow((\"ID\", \"Relevance\"))\n",
    "    writer.writerows(zip(MentionedAccount,Act))"
   ]
  },
  {
   "cell_type": "code",
   "execution_count": 20,
   "metadata": {
    "collapsed": true
   },
   "outputs": [],
   "source": []
  },
  {
   "cell_type": "code",
   "execution_count": 13,
   "metadata": {
    "collapsed": true
   },
   "outputs": [],
   "source": [
    "temp = Counter(MentionedAccount)"
   ]
  },
  {
   "cell_type": "code",
   "execution_count": 32,
   "metadata": {
    "collapsed": true
   },
   "outputs": [],
   "source": [
    "y = temp.most_common()\n",
    "top20 = y[:20]\n",
    "x = dict(top20)\n",
    "ActList = list(x.keys())"
   ]
  },
  {
   "cell_type": "code",
   "execution_count": 74,
   "metadata": {
    "collapsed": true
   },
   "outputs": [],
   "source": [
    "Top20Text = []"
   ]
  },
  {
   "cell_type": "code",
   "execution_count": 75,
   "metadata": {
    "collapsed": true
   },
   "outputs": [],
   "source": [
    "MatrixContent = [[] for _ in range(20)]\n",
    "MatrixPoint = [[] for _ in range(20)]\n",
    "EachPoint = [0] * 20"
   ]
  },
  {
   "cell_type": "code",
   "execution_count": 76,
   "metadata": {
    "collapsed": true
   },
   "outputs": [],
   "source": [
    "for i in range(0, 19):\n",
    "    account = ActList[i]\n",
    "    for line in text:\n",
    "        if account in line:\n",
    "            if line not in MatrixContent[i]:\n",
    "                MatrixContent[i].append(line)\n",
    "                MatrixPoint[i].append(1)\n",
    "            else:\n",
    "                MatrixPoint[i][MatrixContent[i].index(line)] += 1\n",
    "            Top20Text.append(line)\n",
    "            EachPoint[i] += 1"
   ]
  },
  {
   "cell_type": "code",
   "execution_count": 77,
   "metadata": {},
   "outputs": [
    {
     "data": {
      "text/plain": [
       "8130"
      ]
     },
     "execution_count": 77,
     "metadata": {},
     "output_type": "execute_result"
    }
   ],
   "source": [
    "len(Top20Text)"
   ]
  },
  {
   "cell_type": "code",
   "execution_count": 103,
   "metadata": {},
   "outputs": [
    {
     "data": {
      "text/plain": [
       "[]"
      ]
     },
     "execution_count": 103,
     "metadata": {},
     "output_type": "execute_result"
    }
   ],
   "source": [
    "MatrixContent[19]"
   ]
  },
  {
   "cell_type": "code",
   "execution_count": 104,
   "metadata": {
    "collapsed": true
   },
   "outputs": [],
   "source": [
    "#MatrixPoint"
   ]
  },
  {
   "cell_type": "code",
   "execution_count": 105,
   "metadata": {},
   "outputs": [
    {
     "data": {
      "text/plain": [
       "[('@DavidCornDC', 827),\n",
       " ('@Gidi_Traffic', 821),\n",
       " ('\"@ZenithBank', 808),\n",
       " ('@AfricaFactsZone', 805),\n",
       " ('@NickKristof', 643),\n",
       " ('@cmrondon', 578),\n",
       " ('@ActualidadRT', 533),\n",
       " ('@juliocastrom', 532),\n",
       " ('@Code101_', 390),\n",
       " ('@RobDotHutton', 314),\n",
       " ('@qzafrica', 305),\n",
       " ('@WHO', 299),\n",
       " ('@MaxCRoser', 196),\n",
       " ('@ReporteYa', 142),\n",
       " ('@WHO.', 140),\n",
       " ('@DrTedros,', 138),\n",
       " ('@HelenClarkNZ', 134),\n",
       " ('@TheCWW', 129),\n",
       " ('@Mapbox', 126),\n",
       " ('@GeauxGabby', 119)]"
      ]
     },
     "execution_count": 105,
     "metadata": {},
     "output_type": "execute_result"
    }
   ],
   "source": [
    "top20"
   ]
  },
  {
   "cell_type": "code",
   "execution_count": 11,
   "metadata": {},
   "outputs": [
    {
     "name": "stdout",
     "output_type": "stream",
     "text": [
      "#DYK: #Ethiopia was able to reduce malaria-related mortality by 75% thanks to @DrTedros  #WHODG #DrTedros4WHO @WHO… https://t.co/I16OlK29gK\n",
      "40,000+ Health Ext. Workers bringing health services, incl. #malaria prevention, to the doorstep of rural #Ethiopia thanks to @DrTedros4WHO\n",
      "@FasilYilmaT @DrTedros Tedros Adhanom for Malaria Bureau in Adigrat, fake doctor #NoTedros4WHO\n",
      "RT @globetrotter1_: having been a victim of malaria myself at that early stage of my career shapes my conversations @DrTedros @devex… \n",
      "RT @globetrotter1_: having been a victim of malaria myself at that early stage of my career shapes my conversations @DrTedros @devex… \n",
      "RT @Biniam_A: Africa, #NextDG @DrTedros4WHO PhD thesis is effects of dam on malaria transmission .He has the expertise to curb de… \n",
      "RT @Emishaw8: # No Tedros4DGWHO unqualified \n",
      "#killer of His own people by malaria out break.@WHO @BBC @DrTedros @abebegellaw… \n",
      "having been a victim of malaria myself at that early stage of my career shapes my conversations @DrTedros @devex… https://t.co/D03Ir1dEhX\n",
      "RT @globetrotter1_: having been a victim of malaria myself at that early stage of my career shapes my conversations @DrTedros @devex… \n",
      "RT @globetrotter1_: having been a victim of malaria myself at that early stage of my career shapes my conversations @DrTedros @devex… \n",
      "Under @DrTedros's leadership, Ethiopia has managed to dramatically reduce infant &amp; maternal mortality as well as deaths from malaria.\n",
      "#WHODG\n",
      "RT @Meazit_: Under @DrTedros's leadership, Ethiopia has managed to dramatically reduce infant &amp; maternal mortality as well as deaths from m…\n",
      "RT @Meazit_: Under @DrTedros's leadership, Ethiopia has managed to dramatically reduce infant &amp; maternal mortality as well as deaths from m…\n",
      "RT @globetrotter1_: having been a victim of malaria myself at that early stage of my career shapes my conversations @DrTedros @devex… \n",
      "RT @Meazit_: Under @DrTedros's leadership, Ethiopia has managed to dramatically reduce infant &amp; maternal mortality as well as deaths from m…\n",
      "Africa, #NextDG @DrTedros4WHO PhD thesis is effects of dam on malaria transmission .He has the expertise to curb de… https://t.co/h4QRViZU3c\n",
      "RT @JamesMNMUK: From sharply reducing malaria in Ethiopia @DrTedros new leader of the WHO and @KeseteA could now propel us toward t… \n",
      "RT @ALMA_2030: Our warm congratulations from @ALMA_2030 to @DrTedros on his election to @WHO Director-General. A true leader and a strong v…\n",
      "RT @ALMA_2030: Our warm congratulations from @ALMA_2030 to @DrTedros on his election to @WHO Director-General. A true leader and a strong v…\n",
      "RT @ALMA_2030: @DrTedros @WHO @WHO @DrTedros has been at the forefront of efforts to eliminate #malaria for the majority of his di… \n",
      "RT @ALMA_2030: Our warm congratulations from @ALMA_2030 to @DrTedros on his election to @WHO Director-General. A true leader and a strong v…\n",
      "RT @rolandoteleSUR: Asignatura pendiente @DrTedros: #OMS gasta más dinero en viajes que en lucha contra VIH, malaria y tuberculosis.… \n",
      "RT @rolandoteleSUR: Asignatura pendiente @DrTedros: #OMS gasta más dinero en viajes que en lucha contra VIH, malaria y tuberculosis.… \n",
      "RT @rolandoteleSUR: Asignatura pendiente @DrTedros: #OMS gasta más dinero en viajes que en lucha contra VIH, malaria y tuberculosis.… \n",
      "More on @DrTedros, just elected by #WHA70 to lead @WHO. Has strong background in public health, #malaria prevention: https://t.co/rwG57CAMZm\n",
      "RT @HelenClarkNZ: More on @DrTedros, just elected by #WHA70 to lead @WHO. Has strong background in public health, #malaria prevention: http…\n",
      "RT @HelenClarkNZ: More on @DrTedros, just elected by #WHA70 to lead @WHO. Has strong background in public health, #malaria prevention: http…\n",
      "RT @HelenClarkNZ: More on @DrTedros, just elected by #WHA70 to lead @WHO. Has strong background in public health, #malaria prevention: http…\n",
      "RT @HelenClarkNZ: More on @DrTedros, just elected by #WHA70 to lead @WHO. Has strong background in public health, #malaria prevention: http…\n",
      "RT @HelenClarkNZ: More on @DrTedros, just elected by #WHA70 to lead @WHO. Has strong background in public health, #malaria prevention: http…\n",
      "Both @DrTedros and @KeseteA are the icons who worked hard as Ministers of Health &amp; transformed the health systems o… https://t.co/URMq4vftHB\n",
      "RT @HelenClarkNZ: More on @DrTedros, just elected by #WHA70 to lead @WHO. Has strong background in public health, #malaria prevention: http…\n",
      "RT @HelenClarkNZ: More on @DrTedros, just elected by #WHA70 to lead @WHO. Has strong background in public health, #malaria prevention: http…\n",
      "RT @HelenClarkNZ: More on @DrTedros, just elected by #WHA70 to lead @WHO. Has strong background in public health, #malaria prevention: http…\n",
      "RT @JamesMNMUK: . @DrTedros and @KeseteA new leader of @RollBackMalaria have spent years together leading Ethiopia's successful cam… \n",
      "RT @ALMA_2030: Our warm congratulations from @ALMA_2030 to @DrTedros on his election to @WHO Director-General. A true leader and a strong v…\n",
      "RT @HelenClarkNZ: More on @DrTedros, just elected by #WHA70 to lead @WHO. Has strong background in public health, #malaria prevention: http…\n",
      "Many congratulations @DrTedros looking forward to working with you to create a healthier safer more resilient Commo… https://t.co/lJwbQmlj4R\n",
      "RT @HelenClarkNZ: More on @DrTedros, just elected by #WHA70 to lead @WHO. Has strong background in public health, #malaria prevention: http…\n",
      "RT @HelenClarkNZ: More on @DrTedros, just elected by #WHA70 to lead @WHO. Has strong background in public health, #malaria prevention: http…\n",
      "RT @PScotlandCSG: Many congratulations @DrTedros looking forward to working with you to create a healthier safer more resilient Commo… \n",
      "RT @HelenClarkNZ: More on @DrTedros, just elected by #WHA70 to lead @WHO. Has strong background in public health, #malaria prevention: http…\n",
      "RT @HelenClarkNZ: More on @DrTedros, just elected by #WHA70 to lead @WHO. Has strong background in public health, #malaria prevention: http…\n",
      "RT @PScotlandCSG: Many congratulations @DrTedros looking forward to working with you to create a healthier safer more resilient Commo… \n",
      "RT @HelenClarkNZ: More on @DrTedros, just elected by #WHA70 to lead @WHO. Has strong background in public health, #malaria prevention: http…\n",
      "RT @HelenClarkNZ: More on @DrTedros, just elected by #WHA70 to lead @WHO. Has strong background in public health, #malaria prevention: http…\n",
      "RT @HelenClarkNZ: More on @DrTedros, just elected by #WHA70 to lead @WHO. Has strong background in public health, #malaria prevention: http…\n",
      "RT @HelenClarkNZ: More on @DrTedros, just elected by #WHA70 to lead @WHO. Has strong background in public health, #malaria prevention: http…\n",
      "RT @rolandoteleSUR: Asignatura pendiente @DrTedros: #OMS gasta más dinero en viajes que en lucha contra VIH, malaria y tuberculosis.… \n",
      "RT @HelenClarkNZ: More on @DrTedros, just elected by #WHA70 to lead @WHO. Has strong background in public health, #malaria prevention: http…\n",
      "RT @PScotlandCSG: Many congratulations @DrTedros looking forward to working with you to create a healthier safer more resilient Commo… \n",
      "RT @HelenClarkNZ: More on @DrTedros, just elected by #WHA70 to lead @WHO. Has strong background in public health, #malaria prevention: http…\n",
      "RT @HelenClarkNZ: More on @DrTedros, just elected by #WHA70 to lead @WHO. Has strong background in public health, #malaria prevention: http…\n",
      "RT @HelenClarkNZ: More on @DrTedros, just elected by #WHA70 to lead @WHO. Has strong background in public health, #malaria prevention: http…\n",
      "@pahowho @DrTedros @DrTedros4WHO @WHO @UN Remain very active as when u were in charge of health department in Ethio… https://t.co/euw6kyxacu\n",
      "RT @HelenClarkNZ: More on @DrTedros, just elected by #WHA70 to lead @WHO. Has strong background in public health, #malaria prevention: http…\n",
      "RT @PScotlandCSG: Many congratulations @DrTedros looking forward to working with you to create a healthier safer more resilient Commo… \n",
      "RT @HelenClarkNZ: More on @DrTedros, just elected by #WHA70 to lead @WHO. Has strong background in public health, #malaria prevention: http…\n",
      "RT @HelenClarkNZ: More on @DrTedros, just elected by #WHA70 to lead @WHO. Has strong background in public health, #malaria prevention: http…\n",
      "RT @HelenClarkNZ: More on @DrTedros, just elected by #WHA70 to lead @WHO. Has strong background in public health, #malaria prevention: http…\n",
      "RT @HelenClarkNZ: More on @DrTedros, just elected by #WHA70 to lead @WHO. Has strong background in public health, #malaria prevention: http…\n",
      "RT @ALMA_2030: Our warm congratulations from @ALMA_2030 to @DrTedros on his election to @WHO Director-General. A true leader and a strong v…\n",
      "RT @ALMA_2030: @DrTedros @WHO @WHO @DrTedros has been at the forefront of efforts to eliminate #malaria for the majority of his di… \n",
      "RT @HelenClarkNZ: More on @DrTedros, just elected by #WHA70 to lead @WHO. Has strong background in public health, #malaria prevention: http…\n",
      "RT @HelenClarkNZ: More on @DrTedros, just elected by #WHA70 to lead @WHO. Has strong background in public health, #malaria prevention: http…\n",
      "RT @HelenClarkNZ: More on @DrTedros, just elected by #WHA70 to lead @WHO. Has strong background in public health, #malaria prevention: http…\n",
      "RT @HelenClarkNZ: More on @DrTedros, just elected by #WHA70 to lead @WHO. Has strong background in public health, #malaria prevention: http…\n",
      "RT @HelenClarkNZ: More on @DrTedros, just elected by #WHA70 to lead @WHO. Has strong background in public health, #malaria prevention: http…\n",
      "RT @HelenClarkNZ: More on @DrTedros, just elected by #WHA70 to lead @WHO. Has strong background in public health, #malaria prevention: http…\n",
      "RT @HelenClarkNZ: More on @DrTedros, just elected by #WHA70 to lead @WHO. Has strong background in public health, #malaria prevention: http…\n",
      "RT @HelenClarkNZ: More on @DrTedros, just elected by #WHA70 to lead @WHO. Has strong background in public health, #malaria prevention: http…\n",
      "RT @HelenClarkNZ: More on @DrTedros, just elected by #WHA70 to lead @WHO. Has strong background in public health, #malaria prevention: http…\n",
      "RT @PScotlandCSG: Many congratulations @DrTedros looking forward to working with you to create a healthier safer more resilient Commo… \n",
      "RT @HelenClarkNZ: More on @DrTedros, just elected by #WHA70 to lead @WHO. Has strong background in public health, #malaria prevention: http…\n",
      "RT @HelenClarkNZ: More on @DrTedros, just elected by #WHA70 to lead @WHO. Has strong background in public health, #malaria prevention: http…\n",
      "RT @PScotlandCSG: Many congratulations @DrTedros looking forward to working with you to create a healthier safer more resilient Commo… \n",
      "RT @ALMA_2030: Our warm congratulations from @ALMA_2030 to @DrTedros on his election to @WHO Director-General. A true leader and a strong v…\n",
      "RT @HelenClarkNZ: More on @DrTedros, just elected by #WHA70 to lead @WHO. Has strong background in public health, #malaria prevention: http…\n",
      "RT @HelenClarkNZ: More on @DrTedros, just elected by #WHA70 to lead @WHO. Has strong background in public health, #malaria prevention: http…\n",
      "RT @HelenClarkNZ: More on @DrTedros, just elected by #WHA70 to lead @WHO. Has strong background in public health, #malaria prevention: http…\n",
      "RT @HelenClarkNZ: More on @DrTedros, just elected by #WHA70 to lead @WHO. Has strong background in public health, #malaria prevention: http…\n",
      "#ThePeoplesDG - More on @DrTedros, just elected by #WHA70 to lead @WHO. Has strong background in public health,… https://t.co/Ns1pmy07MZ\n",
      "RT @HelenClarkNZ: More on @DrTedros, just elected by #WHA70 to lead @WHO. Has strong background in public health, #malaria prevention: http…\n",
      "RT @HelenClarkNZ: More on @DrTedros, just elected by #WHA70 to lead @WHO. Has strong background in public health, #malaria prevention: http…\n",
      "RT @HelenClarkNZ: More on @DrTedros, just elected by #WHA70 to lead @WHO. Has strong background in public health, #malaria prevention: http…\n",
      "RT @HelenClarkNZ: More on @DrTedros, just elected by #WHA70 to lead @WHO. Has strong background in public health, #malaria prevention: http…\n",
      "RT @HelenClarkNZ: More on @DrTedros, just elected by #WHA70 to lead @WHO. Has strong background in public health, #malaria prevention: http…\n",
      "RT @HelenClarkNZ: More on @DrTedros, just elected by #WHA70 to lead @WHO. Has strong background in public health, #malaria prevention: http…\n",
      "RT @HelenClarkNZ: More on @DrTedros, just elected by #WHA70 to lead @WHO. Has strong background in public health, #malaria prevention: http…\n",
      "RT @HelenClarkNZ: More on @DrTedros, just elected by #WHA70 to lead @WHO. Has strong background in public health, #malaria prevention: http…\n",
      "RT @HelenClarkNZ: More on @DrTedros, just elected by #WHA70 to lead @WHO. Has strong background in public health, #malaria prevention: http…\n",
      "RT @HelenClarkNZ: More on @DrTedros, just elected by #WHA70 to lead @WHO. Has strong background in public health, #malaria prevention: http…\n",
      "RT @PScotlandCSG: Many congratulations @DrTedros looking forward to working with you to create a healthier safer more resilient Commo… \n",
      "RT @HelenClarkNZ: More on @DrTedros, just elected by #WHA70 to lead @WHO. Has strong background in public health, #malaria prevention: http…\n",
      "RT @HelenClarkNZ: More on @DrTedros, just elected by #WHA70 to lead @WHO. Has strong background in public health, #malaria prevention: http…\n",
      "RT @HelenClarkNZ: More on @DrTedros, just elected by #WHA70 to lead @WHO. Has strong background in public health, #malaria prevention: http…\n",
      "RT @PScotlandCSG: Many congratulations @DrTedros looking forward to working with you to create a healthier safer more resilient Commo… \n",
      "#WHO Congrats @DrTedros, @SaniaNishtar could not make it @HANDS1979 @HANDSInt79 @shaikhtanveerah @qamar_shaikh… https://t.co/vpK0WklSv7\n",
      "RT @HelenClarkNZ: More on @DrTedros, just elected by #WHA70 to lead @WHO. Has strong background in public health, #malaria prevention: http…\n",
      "RT @PScotlandCSG: Many congratulations @DrTedros looking forward to working with you to create a healthier safer more resilient Commo… \n",
      "RT @HelenClarkNZ: More on @DrTedros, just elected by #WHA70 to lead @WHO. Has strong background in public health, #malaria prevention: http…\n",
      "RT @HelenClarkNZ: More on @DrTedros, just elected by #WHA70 to lead @WHO. Has strong background in public health, #malaria prevention: http…\n",
      "RT @HelenClarkNZ: More on @DrTedros, just elected by #WHA70 to lead @WHO. Has strong background in public health, #malaria prevention: http…\n",
      "RT @PScotlandCSG: Many congratulations @DrTedros looking forward to working with you to create a healthier safer more resilient Commo… \n",
      "RT @PScotlandCSG: Many congratulations @DrTedros looking forward to working with you to create a healthier safer more resilient Commo… \n",
      "RT @HelenClarkNZ: More on @DrTedros, just elected by #WHA70 to lead @WHO. Has strong background in public health, #malaria prevention: http…\n",
      "RT @HelenClarkNZ: More on @DrTedros, just elected by #WHA70 to lead @WHO. Has strong background in public health, #malaria prevention: http…\n",
      "RT @HelenClarkNZ: More on @DrTedros, just elected by #WHA70 to lead @WHO. Has strong background in public health, #malaria prevention: http…\n",
      "RT @HelenClarkNZ: More on @DrTedros, just elected by #WHA70 to lead @WHO. Has strong background in public health, #malaria prevention: http…\n",
      "RT @HelenClarkNZ: More on @DrTedros, just elected by #WHA70 to lead @WHO. Has strong background in public health, #malaria prevention: http…\n",
      "RT @HelenClarkNZ: More on @DrTedros, just elected by #WHA70 to lead @WHO. Has strong background in public health, #malaria prevention: http…\n",
      "RT @HelenClarkNZ: More on @DrTedros, just elected by #WHA70 to lead @WHO. Has strong background in public health, #malaria prevention: http…\n",
      "RT @HelenClarkNZ: More on @DrTedros, just elected by #WHA70 to lead @WHO. Has strong background in public health, #malaria prevention: http…\n",
      "RT @HelenClarkNZ: More on @DrTedros, just elected by #WHA70 to lead @WHO. Has strong background in public health, #malaria prevention: http…\n",
      "RT @HelenClarkNZ: More on @DrTedros, just elected by #WHA70 to lead @WHO. Has strong background in public health, #malaria prevention: http…\n",
      "RT @HelenClarkNZ: More on @DrTedros, just elected by #WHA70 to lead @WHO. Has strong background in public health, #malaria prevention: http…\n",
      "RT @HelenClarkNZ: More on @DrTedros, just elected by #WHA70 to lead @WHO. Has strong background in public health, #malaria prevention: http…\n",
      "RT @HelenClarkNZ: More on @DrTedros, just elected by #WHA70 to lead @WHO. Has strong background in public health, #malaria prevention: http…\n",
      "RT @HelenClarkNZ: More on @DrTedros, just elected by #WHA70 to lead @WHO. Has strong background in public health, #malaria prevention: http…\n",
      "Many challenges for @WHO &amp; @DrTedros we will be watching &amp; contributing 2 #WHO action on #AMR #chemicals in… https://t.co/ieVwb3uqY3\n",
      "RT @HelenClarkNZ: More on @DrTedros, just elected by #WHA70 to lead @WHO. Has strong background in public health, #malaria prevention: http…\n",
      "RT @HelenClarkNZ: More on @DrTedros, just elected by #WHA70 to lead @WHO. Has strong background in public health, #malaria prevention: http…\n",
      "RT @HelenClarkNZ: More on @DrTedros, just elected by #WHA70 to lead @WHO. Has strong background in public health, #malaria prevention: http…\n",
      "RT @HelenClarkNZ: More on @DrTedros, just elected by #WHA70 to lead @WHO. Has strong background in public health, #malaria prevention: http…\n",
      "RT @HelenClarkNZ: More on @DrTedros, just elected by #WHA70 to lead @WHO. Has strong background in public health, #malaria prevention: http…\n",
      "RT @HelenClarkNZ: More on @DrTedros, just elected by #WHA70 to lead @WHO. Has strong background in public health, #malaria prevention: http…\n",
      "@Dembiile dagaal iyo cunsuri dadka neceb ayaa loo doortay inu madax u noqdo #HAY'ADACUNTADAADUUNKA #WHO @DrTedros https://t.co/jcirRIIAg5\n",
      "RT @HelenClarkNZ: More on @DrTedros, just elected by #WHA70 to lead @WHO. Has strong background in public health, #malaria prevention: http…\n",
      "RT @HelenClarkNZ: More on @DrTedros, just elected by #WHA70 to lead @WHO. Has strong background in public health, #malaria prevention: http…\n",
      "RT @HelenClarkNZ: More on @DrTedros, just elected by #WHA70 to lead @WHO. Has strong background in public health, #malaria prevention: http…\n",
      "RT @HelenClarkNZ: More on @DrTedros, just elected by #WHA70 to lead @WHO. Has strong background in public health, #malaria prevention: http…\n",
      "RT @HelenClarkNZ: More on @DrTedros, just elected by #WHA70 to lead @WHO. Has strong background in public health, #malaria prevention: http…\n",
      "RT @HelenClarkNZ: More on @DrTedros, just elected by #WHA70 to lead @WHO. Has strong background in public health, #malaria prevention: http…\n",
      "RT @David_McNair: .@davidnabarro @DrTedros @SaniaNishtar Please change this! https://t.co/S7BtLcogBB\n",
      "RT @ALMA_2030: @DrTedros @WHO @WHO @DrTedros has been at the forefront of efforts to eliminate #malaria for the majority of his di… \n",
      "RT @ALMA_2030: Our warm congratulations from @ALMA_2030 to @DrTedros on his election to @WHO Director-General. A true leader and a strong v…\n",
      "RT @HelenClarkNZ: More on @DrTedros, just elected by #WHA70 to lead @WHO. Has strong background in public health, #malaria prevention: http…\n",
      "RT @HelenClarkNZ: More on @DrTedros, just elected by #WHA70 to lead @WHO. Has strong background in public health, #malaria prevention: http…\n",
      "RT @HelenClarkNZ: More on @DrTedros, just elected by #WHA70 to lead @WHO. Has strong background in public health, #malaria prevention: http…\n",
      "RT @PScotlandCSG: Many congratulations @DrTedros looking forward to working with you to create a healthier safer more resilient Commo… \n",
      "RT @HelenClarkNZ: More on @DrTedros, just elected by #WHA70 to lead @WHO. Has strong background in public health, #malaria prevention: http…\n",
      "RT @ALMA_2030: Our warm congratulations from @ALMA_2030 to @DrTedros on his election to @WHO Director-General. A true leader and a strong v…\n",
      "RT @HelenClarkNZ: More on @DrTedros, just elected by #WHA70 to lead @WHO. Has strong background in public health, #malaria prevention: http…\n",
      "RT @HelenClarkNZ: More on @DrTedros, just elected by #WHA70 to lead @WHO. Has strong background in public health, #malaria prevention: http…\n",
      "RT @ALMA_2030: Our warm congratulations from @ALMA_2030 to @DrTedros on his election to @WHO Director-General. A true leader and a strong v…\n",
      "RT @HelenClarkNZ: More on @DrTedros, just elected by #WHA70 to lead @WHO. Has strong background in public health, #malaria prevention: http…\n",
      "RT @HelenClarkNZ: More on @DrTedros, just elected by #WHA70 to lead @WHO. Has strong background in public health, #malaria prevention: http…\n",
      "RT @PScotlandCSG: Many congratulations @DrTedros looking forward to working with you to create a healthier safer more resilient Commo… \n",
      "RT @PScotlandCSG: Many congratulations @DrTedros looking forward to working with you to create a healthier safer more resilient Commo… \n",
      "RT @HelenClarkNZ: More on @DrTedros, just elected by #WHA70 to lead @WHO. Has strong background in public health, #malaria prevention: http…\n",
      "RT @HelenClarkNZ: More on @DrTedros, just elected by #WHA70 to lead @WHO. Has strong background in public health, #malaria prevention: http…\n",
      "@DrTedros https://t.co/qak4iZferT\n",
      "RT @HelenClarkNZ: More on @DrTedros, just elected by #WHA70 to lead @WHO. Has strong background in public health, #malaria prevention: http…\n",
      "RT @HelenClarkNZ: More on @DrTedros, just elected by #WHA70 to lead @WHO. Has strong background in public health, #malaria prevention: http…\n",
      "RT @HelenClarkNZ: More on @DrTedros, just elected by #WHA70 to lead @WHO. Has strong background in public health, #malaria prevention: http…\n",
      "RT @HelenClarkNZ: More on @DrTedros, just elected by #WHA70 to lead @WHO. Has strong background in public health, #malaria prevention: http…\n",
      "RT @HelenClarkNZ: More on @DrTedros, just elected by #WHA70 to lead @WHO. Has strong background in public health, #malaria prevention: http…\n",
      "RT @PScotlandCSG: Many congratulations @DrTedros looking forward to working with you to create a healthier safer more resilient Commo… \n",
      "RT @HelenClarkNZ: More on @DrTedros, just elected by #WHA70 to lead @WHO. Has strong background in public health, #malaria prevention: http…\n",
      "RT @HelenClarkNZ: More on @DrTedros, just elected by #WHA70 to lead @WHO. Has strong background in public health, #malaria prevention: http…\n",
      "RT @PScotlandCSG: Many congratulations @DrTedros looking forward to working with you to create a healthier safer more resilient Commo… \n",
      "RT @HelenClarkNZ: More on @DrTedros, just elected by #WHA70 to lead @WHO. Has strong background in public health, #malaria prevention: http…\n",
      "RT @PScotlandCSG: Many congratulations @DrTedros looking forward to working with you to create a healthier safer more resilient Commo… \n",
      "RT @HelenClarkNZ: More on @DrTedros, just elected by #WHA70 to lead @WHO. Has strong background in public health, #malaria prevention: http…\n",
      "RT @PScotlandCSG: Many congratulations @DrTedros looking forward to working with you to create a healthier safer more resilient Commo… \n",
      "RT @PScotlandCSG: Many congratulations @DrTedros looking forward to working with you to create a healthier safer more resilient Commo… \n",
      "RT @PScotlandCSG: Many congratulations @DrTedros looking forward to working with you to create a healthier safer more resilient Commo… \n",
      "RT @HelenClarkNZ: More on @DrTedros, just elected by #WHA70 to lead @WHO. Has strong background in public health, #malaria prevention: http…\n",
      "A very proud day for Ethiopia, Africa and the world! Congratulations @DrTedros! Show the world what we can do! https://t.co/ZmJ6tpDQQK\n",
      "RT @HelenClarkNZ: More on @DrTedros, just elected by #WHA70 to lead @WHO. Has strong background in public health, #malaria prevention: http…\n",
      "RT @HelenClarkNZ: More on @DrTedros, just elected by #WHA70 to lead @WHO. Has strong background in public health, #malaria prevention: http…\n",
      "RT @HelenClarkNZ: More on @DrTedros, just elected by #WHA70 to lead @WHO. Has strong background in public health, #malaria prevention: http…\n",
      "RT @HelenClarkNZ: More on @DrTedros, just elected by #WHA70 to lead @WHO. Has strong background in public health, #malaria prevention: http…\n",
      "RT @HelenClarkNZ: More on @DrTedros, just elected by #WHA70 to lead @WHO. Has strong background in public health, #malaria prevention: http…\n",
      "RT @Makie_ETH: A very proud day for Ethiopia, Africa and the world! Congratulations @DrTedros! Show the world what we can do! https://t.co/…\n",
      "RT @PScotlandCSG: Many congratulations @DrTedros looking forward to working with you to create a healthier safer more resilient Commo… \n",
      "RT @HelenClarkNZ: More on @DrTedros, just elected by #WHA70 to lead @WHO. Has strong background in public health, #malaria prevention: http…\n",
      "RT @HelenClarkNZ: More on @DrTedros, just elected by #WHA70 to lead @WHO. Has strong background in public health, #malaria prevention: http…\n",
      "#WHODG @DrTedros, your new home needs a fix https://t.co/O5haC4KnjQ\n",
      "RT @PScotlandCSG: Many congratulations @DrTedros looking forward to working with you to create a healthier safer more resilient Commo… \n",
      "RT @PScotlandCSG: Many congratulations @DrTedros looking forward to working with you to create a healthier safer more resilient Commo… \n",
      "RT @PScotlandCSG: Many congratulations @DrTedros looking forward to working with you to create a healthier safer more resilient Commo… \n",
      "RT @HelenClarkNZ: More on @DrTedros, just elected by #WHA70 to lead @WHO. Has strong background in public health, #malaria prevention: http…\n",
      "RT @HelenClarkNZ: More on @DrTedros, just elected by #WHA70 to lead @WHO. Has strong background in public health, #malaria prevention: http…\n",
      "RT @PScotlandCSG: Many congratulations @DrTedros looking forward to working with you to create a healthier safer more resilient Commo… \n",
      "RT @HelenClarkNZ: More on @DrTedros, just elected by #WHA70 to lead @WHO. Has strong background in public health, #malaria prevention: http…\n",
      "RT @HelenClarkNZ: More on @DrTedros, just elected by #WHA70 to lead @WHO. Has strong background in public health, #malaria prevention: http…\n",
      "RT @HelenClarkNZ: More on @DrTedros, just elected by #WHA70 to lead @WHO. Has strong background in public health, #malaria prevention: http…\n",
      "RT @HelenClarkNZ: More on @DrTedros, just elected by #WHA70 to lead @WHO. Has strong background in public health, #malaria prevention: http…\n",
      "RT @HelenClarkNZ: More on @DrTedros, just elected by #WHA70 to lead @WHO. Has strong background in public health, #malaria prevention: http…\n",
      "RT @PScotlandCSG: Many congratulations @DrTedros looking forward to working with you to create a healthier safer more resilient Commo… \n",
      "RT @HelenClarkNZ: More on @DrTedros, just elected by #WHA70 to lead @WHO. Has strong background in public health, #malaria prevention: http…\n",
      "RT @HelenClarkNZ: More on @DrTedros, just elected by #WHA70 to lead @WHO. Has strong background in public health, #malaria prevention: http…\n",
      "RT @HelenClarkNZ: More on @DrTedros, just elected by #WHA70 to lead @WHO. Has strong background in public health, #malaria prevention: http…\n",
      "RT @HelenClarkNZ: More on @DrTedros, just elected by #WHA70 to lead @WHO. Has strong background in public health, #malaria prevention: http…\n",
      "RT @HelenClarkNZ: More on @DrTedros, just elected by #WHA70 to lead @WHO. Has strong background in public health, #malaria prevention: http…\n",
      "RT @HelenClarkNZ: More on @DrTedros, just elected by #WHA70 to lead @WHO. Has strong background in public health, #malaria prevention: http…\n",
      "RT @ALMA_2030: Our warm congratulations from @ALMA_2030 to @DrTedros on his election to @WHO Director-General. A true leader and a strong v…\n",
      "We can't congratulations enough @DrTedros We say yes to new solutions on #Malaria #Cholera #Fistula #Malnutrition… https://t.co/Ol0jcwTXwW\n",
      "RT @HelenClarkNZ: More on @DrTedros, just elected by #WHA70 to lead @WHO. Has strong background in public health, #malaria prevention: http…\n",
      "RT @HelenClarkNZ: More on @DrTedros, just elected by #WHA70 to lead @WHO. Has strong background in public health, #malaria prevention: http…\n",
      "RT @HelenClarkNZ: More on @DrTedros, just elected by #WHA70 to lead @WHO. Has strong background in public health, #malaria prevention: http…\n",
      "RT @PScotlandCSG: Many congratulations @DrTedros looking forward to working with you to create a healthier safer more resilient Commo… \n",
      "@dede_ciz @PaulKagame @DrTedros \"\"Africa not a country\". - groan - but my pt is disease and epidemics are not confi… https://t.co/PhMWlonQbU\n",
      "RT @HelenClarkNZ: More on @DrTedros, just elected by #WHA70 to lead @WHO. Has strong background in public health, #malaria prevention: http…\n",
      "RT @HelenClarkNZ: More on @DrTedros, just elected by #WHA70 to lead @WHO. Has strong background in public health, #malaria prevention: http…\n",
      "RT @HelenClarkNZ: More on @DrTedros, just elected by #WHA70 to lead @WHO. Has strong background in public health, #malaria prevention: http…\n",
      "RT @HelenClarkNZ: More on @DrTedros, just elected by #WHA70 to lead @WHO. Has strong background in public health, #malaria prevention: http…\n",
      "@RefugeesChief @DrTedros @WHO ex DG Margaret Chan unjust blocked Taiwan to WHA &amp; use health funds for own pleasure https://t.co/s3kmLEhkLI\n",
      "RT @HelenClarkNZ: More on @DrTedros, just elected by #WHA70 to lead @WHO. Has strong background in public health, #malaria prevention: http…\n",
      "RT @HelenClarkNZ: More on @DrTedros, just elected by #WHA70 to lead @WHO. Has strong background in public health, #malaria prevention: http…\n",
      "RT @MalariaNoMore: We look forward to supporting @DrTedros' efforts to put the world on the path to ending #malaria. Read more here:… \n",
      "@DrTedros Congratulations on your important position, fight against malaria in developping countries but pavrety big issue @antonioguterres\n",
      "RT @HelenClarkNZ: More on @DrTedros, just elected by #WHA70 to lead @WHO. Has strong background in public health, #malaria prevention: http…\n",
      "RT @TabiJoda1: We can't congratulations enough @DrTedros We say yes to new solutions on #Malaria #Cholera #Fistula #Malnutrition… \n",
      "RT @DrTedros4WHO: .@DrTedros was recognised as the @AJTMH Young Investigator of the Year in 1999 for community-based research on… \n",
      "Prevention and community engagement are key to #EndMalariaForGood 💬 @DrTedros https://t.co/e7zqiSvuTH #DrTedros4WHO… https://t.co/kuGXhEzPkp\n",
      "RT @EthioEmbassyUK: Prevention and community engagement are key to #EndMalariaForGood 💬 @DrTedros https://t.co/e7zqiSvuTH #DrTedros4WHO… \n",
      "RT @EthioEmbassyUK: Prevention and community engagement are key to #EndMalariaForGood 💬 @DrTedros https://t.co/e7zqiSvuTH #DrTedros4WHO… \n",
      "RT @EthioEmbassyUK: Prevention and community engagement are key to #EndMalariaForGood 💬 @DrTedros https://t.co/e7zqiSvuTH #DrTedros4WHO… \n",
      "RT @EthioEmbassyUK: Prevention and community engagement are key to #EndMalariaForGood 💬 @DrTedros https://t.co/e7zqiSvuTH #DrTedros4WHO… \n",
      "RT @DrTedros4WHO: .@DrTedros was recognised as the @AJTMH Young Investigator of the Year in 1999 for community-based research on… \n",
      "RT @DrSenait: \"Prevention is Key to End Malaria For Good\" says @DrTedros who was a world renowned malaria researcher #NextWHODG https://t.c…\n",
      "RT @DrTedros4WHO: .@DrTedros was recognised as the @AJTMH Young Investigator of the Year in 1999 for community-based research on… \n",
      "RT @fahmi_shabeel: @UKenyatta As Chair of Roll Back Malaria, @DrTedros helped mobilize record $3B to support #malaria programmes aroun… \n",
      "RT @fahmi_shabeel: @UKenyatta As Chair of Roll Back Malaria, @DrTedros helped mobilize record $3B to support #malaria programmes aroun… \n",
      "RT @fahmi_shabeel: @UKenyatta As Chair of Roll Back Malaria, @DrTedros helped mobilize record $3B to support #malaria programmes aroun… \n",
      "RT @fahmi_shabeel: @UKenyatta As Chair of Roll Back Malaria, @DrTedros helped mobilize record $3B to support #malaria programmes aroun… \n",
      "RT @DrTedros4WHO: .@DrTedros was recognised as the @AJTMH Young Investigator of the Year in 1999 for community-based research on… \n",
      "Prevention and community engagement are key to #EndMalariaForGood 💬 @DrTedros https://t.co/e7zqiSvuTH #DrTedros4WHO… https://t.co/kuGXhEzPkp\n",
      "RT @EthioEmbassyUK: Prevention and community engagement are key to #EndMalariaForGood 💬 @DrTedros https://t.co/e7zqiSvuTH #DrTedros4WHO… \n",
      "RT @EthioEmbassyUK: Prevention and community engagement are key to #EndMalariaForGood 💬 @DrTedros https://t.co/e7zqiSvuTH #DrTedros4WHO… \n",
      "RT @EthioEmbassyUK: Prevention and community engagement are key to #EndMalariaForGood 💬 @DrTedros https://t.co/e7zqiSvuTH #DrTedros4WHO… \n",
      "RT @EthioEmbassyUK: Prevention and community engagement are key to #EndMalariaForGood 💬 @DrTedros https://t.co/e7zqiSvuTH #DrTedros4WHO… \n",
      "RT @DrTedros4WHO: .@DrTedros was recognised as the @AJTMH Young Investigator of the Year in 1999 for community-based research on… \n",
      "RT @DrSenait: \"Prevention is Key to End Malaria For Good\" says @DrTedros who was a world renowned malaria researcher #NextWHODG https://t.c…\n",
      "RT @DrTedros4WHO: .@DrTedros was recognised as the @AJTMH Young Investigator of the Year in 1999 for community-based research on… \n"
     ]
    }
   ],
   "source": [
    "for line in text:\n",
    "    if \"@DrTedros\" in line:\n",
    "        print(line)"
   ]
  },
  {
   "cell_type": "code",
   "execution_count": null,
   "metadata": {
    "collapsed": true
   },
   "outputs": [],
   "source": []
  }
 ],
 "metadata": {
  "kernelspec": {
   "display_name": "Python 3",
   "language": "python",
   "name": "python3"
  },
  "language_info": {
   "codemirror_mode": {
    "name": "ipython",
    "version": 3
   },
   "file_extension": ".py",
   "mimetype": "text/x-python",
   "name": "python",
   "nbconvert_exporter": "python",
   "pygments_lexer": "ipython3",
   "version": "3.6.1"
  }
 },
 "nbformat": 4,
 "nbformat_minor": 2
}
